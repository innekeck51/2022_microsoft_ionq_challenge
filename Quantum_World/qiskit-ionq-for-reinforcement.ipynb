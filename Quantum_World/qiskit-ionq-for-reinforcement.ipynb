{
  "cells": [
    {
      "cell_type": "markdown",
      "id": "4f68bf86-fb3b-453a-85ae-dfa702070bd6",
      "metadata": {},
      "source": [
        "# Qiskit and IonQ on Azure Quantum For snake Game\n",
        "\n"
      ]
    },
    {
      "cell_type": "markdown",
      "id": "800a5961-abbe-4876-bad1-eac80c2715b3",
      "metadata": {},
      "source": [
        "First, import the required packages for this sample:"
      ]
    },
    {
      "cell_type": "code",
      "execution_count": 1,
      "id": "d171c652-649f-470d-a980-d02bae9a93db",
      "metadata": {},
      "outputs": [],
      "source": [
        "from qiskit import QuantumCircuit\n",
        "from qiskit.visualization import plot_histogram\n",
        "from qiskit.tools.monitor import job_monitor\n",
        "from azure.quantum.qiskit import AzureQuantumProvider\n"
      ]
    },
    {
      "cell_type": "markdown",
      "id": "20d2331b-7ab6-400c-bb00-1a3fa16b6933",
      "metadata": {},
      "source": [
        "## Connecting to the Azure Quantum service\n",
        "\n",
        "To connect to the Azure Quantum service, use the `AzureQuantumProvider` constructor to create a `provider` object that connects to your Azure Quantum workspace. This will use your workspace's resource ID and location.\n"
      ]
    },
    {
      "cell_type": "code",
      "execution_count": 2,
      "id": "bb57b663-ad90-4e11-8468-ae6b468e50d4",
      "metadata": {},
      "outputs": [],
      "source": [
        "from azure.quantum.qiskit import AzureQuantumProvider\n",
        "provider = AzureQuantumProvider (\n",
        "    resource_id = \"/subscriptions/b1d7f7f8-743f-458e-b3a0-3e09734d716d/resourceGroups/aq-hackathons/providers/Microsoft.Quantum/Workspaces/aq-hackathon-01\",\n",
        "    location = \"eastus\"\n",
        ")"
      ]
    },
    {
      "cell_type": "markdown",
      "id": "8886b76d",
      "metadata": {},
      "source": [
        "## References\n",
        "\n",
        "<a id=\"1\">[1]</a>   _Quantum agents in the Gym: a variational quantum algorithm for deep Q-learning_ (2021, Skolik et al.). [arXiv:2103.15084](https://arxiv.org/abs/2103.15084)\n",
        "\n",
        "<a id=\"2\">[2]</a> [Approximate Q-Learning algorithm](https://github.com/ageron/handson-ml2), Github."
      ]
    },
    {
      "cell_type": "markdown",
      "id": "778acd80-c696-4219-8df1-05dc03abc373",
      "metadata": {
        "nteract": {
          "transient": {
            "deleting": false
          }
        }
      },
      "source": [
        "## Basic snake game Reinforcement learning\n",
        "\n",
        "The process workflow has been explained in README.md about snake game development"
      ]
    },
    {
      "cell_type": "code",
      "execution_count": 18,
      "id": "df4c121b-c10c-4e77-8b82-fa4ea15d0934",
      "metadata": {
        "jupyter": {
          "outputs_hidden": false,
          "source_hidden": false
        },
        "nteract": {
          "transient": {
            "deleting": false
          }
        }
      },
      "outputs": [
        {
          "name": "stdout",
          "output_type": "stream",
          "text": [
            "----------\n",
            "|        |\n",
            "|        |\n",
            "|        |\n",
            "|  *     |\n",
            "|    O   |\n",
            "|        |\n",
            "|        |\n",
            "|        |\n",
            "----------\n",
            "Score: 1\n",
            "----------\n",
            "|        |\n",
            "|        |\n",
            "|        |\n",
            "|  * O   |\n",
            "|        |\n",
            "|        |\n",
            "|        |\n",
            "|        |\n",
            "----------\n",
            "Reward: 1 Score: 1\n",
            "----------\n",
            "|        |\n",
            "|        |\n",
            "|    O   |\n",
            "|  *     |\n",
            "|        |\n",
            "|        |\n",
            "|        |\n",
            "|        |\n",
            "----------\n",
            "Reward: 0 Score: 1\n",
            "----------\n",
            "|        |\n",
            "|    O   |\n",
            "|        |\n",
            "|  *     |\n",
            "|        |\n",
            "|        |\n",
            "|        |\n",
            "|        |\n",
            "----------\n",
            "Reward: 0 Score: 1\n",
            "----------\n",
            "|    O   |\n",
            "|        |\n",
            "|        |\n",
            "|  *     |\n",
            "|        |\n",
            "|        |\n",
            "|        |\n",
            "|        |\n",
            "----------\n",
            "Reward: 0 Score: 1\n",
            "Game Over, Score: 1\n"
          ]
        }
      ],
      "source": [
        "\n",
        "import numpy as np\n",
        "import random\n",
        "\n",
        "\n",
        "class BodyNode():\n",
        "    def __init__(self, parent, x, y):\n",
        "        self.parent = parent\n",
        "        self.x = x\n",
        "        self.y = y\n",
        "\n",
        "    def setX(self, x):\n",
        "        self.x = x\n",
        "\n",
        "    def setY(self, y):\n",
        "        self.y = y\n",
        "\n",
        "    def setParent(self, parent):\n",
        "        self.parent = parent\n",
        "\n",
        "    def getPosition(self):\n",
        "        return (self.x, self.y)\n",
        "    \n",
        "    def getIndex(self):\n",
        "        return (self.y, self.x)\n",
        "\n",
        "\n",
        "class Snake():\n",
        "    def __init__(self, x, y):\n",
        "        self.head = BodyNode(None, x, y)\n",
        "        self.tail = self.head\n",
        "\n",
        "    def moveBodyForwards(self):\n",
        "        currentNode = self.tail\n",
        "        while currentNode.parent != None:\n",
        "            parentPosition = currentNode.parent.getPosition()\n",
        "            currentNode.setX(parentPosition[0])\n",
        "            currentNode.setY(parentPosition[1])\n",
        "            currentNode = currentNode.parent\n",
        "\n",
        "    def move(self, direction):\n",
        "        (oldTailX, oldTailY) = self.tail.getPosition()\n",
        "        self.moveBodyForwards()\n",
        "        headPosition = self.head.getPosition()\n",
        "        if direction == 0:\n",
        "            self.head.setY(headPosition[1] - 1)\n",
        "        elif direction == 1:\n",
        "            self.head.setX(headPosition[0] + 1)\n",
        "        elif direction == 2:\n",
        "            self.head.setY(headPosition[1] + 1)\n",
        "        elif direction == 3:\n",
        "            self.head.setX(headPosition[0] - 1)\n",
        "        return (oldTailX, oldTailY, *self.head.getPosition())\n",
        "\n",
        "    def newHead(self, newX, newY):\n",
        "        newHead = BodyNode(None, newX, newY)\n",
        "        self.head.setParent(newHead)\n",
        "        self.head = newHead\n",
        "        \n",
        "    def getHead(self):\n",
        "        return self.head\n",
        "    \n",
        "    def getTail(self):\n",
        "        return self.tail\n",
        "\n",
        "\n",
        "class SnakeGame():\n",
        "    def __init__(self, width, height):\n",
        "        # arbitrary numbers to signify head, body, and food)\n",
        "        # 0 for empty space\n",
        "        self.headVal = 2\n",
        "        self.bodyVal = 1\n",
        "        self.foodVal = 7\n",
        "        self.width = width\n",
        "        self.height = height\n",
        "        self.board = np.zeros([height, width], dtype=int)\n",
        "\n",
        "        self.length = 1\n",
        "\n",
        "        startX = width//2\n",
        "        startY = height//2\n",
        "\n",
        "        self.board[startX, startY] = self.headVal\n",
        "        self.snake = Snake(startX, startY)\n",
        "        self.spawnFood()\n",
        "        self.calcState()\n",
        "#        print(self.board)\n",
        "\n",
        "    def spawnFood(self):\n",
        "        # spawn food at location not occupied by snake\n",
        "        emptyCells = []\n",
        "        for index, value in np.ndenumerate(self.board):\n",
        "            if value != self.bodyVal and value != self.headVal:\n",
        "                emptyCells.append(index)\n",
        "        self.foodIndex = random.choice(emptyCells)\n",
        "        self.board[self.foodIndex] = self.foodVal\n",
        "\n",
        "    def checkValid(self, direction):\n",
        "        # check if move is blocked by wall\n",
        "        newX, newY = self.potentialPosition(direction)\n",
        "        if newX == -1 or newX == self.width:\n",
        "            return False\n",
        "        if newY == -1 or newY == self.height:\n",
        "            return False\n",
        "        # check if move is blocked by snake body\n",
        "        if self.board[newY, newX] == self.bodyVal:\n",
        "            return False\n",
        "        return True\n",
        "\n",
        "    def potentialPosition(self, direction):\n",
        "        (newX, newY) = self.snake.getHead().getPosition()\n",
        "        if direction == 0:\n",
        "            newY -= 1\n",
        "        elif direction == 1:\n",
        "            newX += 1\n",
        "        elif direction == 2:\n",
        "            newY += 1\n",
        "        elif direction == 3:\n",
        "            newX -= 1\n",
        "        return (newX, newY)\n",
        "\n",
        "    def calcState(self):\n",
        "        # state is as follows.\n",
        "        # Is direction blocked by wall or snake?\n",
        "        # Is food in this direction?\n",
        "        # (top blocked, right blocked, down blocked, left blocked,\n",
        "        # top food, right food, down food, left food)\n",
        "        self.state = np.zeros(8, dtype=int)\n",
        "        for i in range(4):\n",
        "            self.state[i] = not self.checkValid(i)\n",
        "        self.state[4:] = self.calcFoodDirection()\n",
        "\n",
        "    def calcStateNum(self):\n",
        "        # calculate an integer number for state\n",
        "        # there will be 2^8 potential states but not all states are reachable\n",
        "        stateNum = 0\n",
        "        for i in range(8):\n",
        "            stateNum += 2**i*self.state[i]\n",
        "        return stateNum\n",
        "\n",
        "    def calcFoodDirection(self):\n",
        "        # food can be 1 or 2 directions eg. right and up\n",
        "        # 0 is up, 1 is right, 2 is down, 3 is left\n",
        "        foodDirections = np.zeros(4, dtype=int)\n",
        "        dist = np.array(self.foodIndex) - np.array(self.snake.getHead().getIndex())\n",
        "        if dist[0] < 0:\n",
        "            # down\n",
        "            foodDirections[0] = 1\n",
        "        elif dist[0] > 0:\n",
        "            # up\n",
        "            foodDirections[2] = 1\n",
        "        if dist[1] > 0:\n",
        "            # right\n",
        "            foodDirections[1] = 1\n",
        "        elif dist[1] < 0:\n",
        "            # left\n",
        "            foodDirections[3] = 1\n",
        "        return foodDirections\n",
        "\n",
        "    def plottableBoard(self):\n",
        "        #returns board formatted for animations\n",
        "        board = np.zeros([self.width, self.height])\n",
        "        currentNode = self.snake.tail\n",
        "        count = 0\n",
        "        while True:\n",
        "            count += 1\n",
        "            board[currentNode.getIndex()] = 0.2 + 0.8*count/self.length\n",
        "            currentNode = currentNode.parent\n",
        "            if currentNode == None:\n",
        "                break\n",
        "        board[self.foodIndex] = -1\n",
        "        return board\n",
        "        \n",
        "        \n",
        "    def display(self):\n",
        "        for i in range(self.width+2):\n",
        "            print('-', end='')\n",
        "        for i in range(self.height):\n",
        "            print('\\n|', end='')\n",
        "            for j in range(self.width):\n",
        "                if self.board[i, j] == 0:\n",
        "                    print(' ', end='')\n",
        "                elif self.board[i, j] == self.headVal:\n",
        "                    print('O', end='')\n",
        "                elif self.board[i, j] == self.bodyVal:\n",
        "                    print('X', end='')\n",
        "                elif self.board[i, j] == self.foodVal:\n",
        "                    print('*', end='')\n",
        "            print('|', end='')\n",
        "        print()\n",
        "        for i in range(self.width+2):\n",
        "            print('-', end='')\n",
        "        print()\n",
        "#        print(self.board)\n",
        "\n",
        "    def makeMove(self, direction):\n",
        "        gameOver = False\n",
        "        if self.checkValid(direction):\n",
        "            # set reward if moving in the right direction\n",
        "            if self.calcFoodDirection()[direction] == 1:\n",
        "                reward = 1\n",
        "            else:\n",
        "                reward = 0\n",
        "            (headX, headY) = self.snake.getHead().getPosition()\n",
        "            # set old head to body val\n",
        "            self.board[headY, headX] = self.bodyVal\n",
        "\n",
        "            # check if we got the fruit\n",
        "            potX, potY = self.potentialPosition(direction)\n",
        "            if self.board[potY, potX] == self.foodVal:\n",
        "                # extend the snake\n",
        "                self.snake.newHead(potX, potY)\n",
        "                self.board[potY, potX] = self.headVal\n",
        "                self.spawnFood()\n",
        "                self.length += 1\n",
        "                # if you want to give a higher reward for getting the fruit, uncomment below\n",
        "                reward = 2\n",
        "            else:\n",
        "                # move the snake\n",
        "                (oldTailX, oldTailY, newHeadX, newHeadY) = self.snake.move(direction)\n",
        "                self.board[oldTailY, oldTailX] = 0\n",
        "                self.board[newHeadY, newHeadX] = self.headVal\n",
        "        else:\n",
        "            reward = -2\n",
        "            gameOver = True\n",
        "        self.calcState()\n",
        "        return (self.calcStateNum(), reward, gameOver, self.length)\n",
        "\n",
        "\n",
        "if __name__ == \"__main__\":\n",
        "    game = SnakeGame(8, 8)\n",
        "    game.display()\n",
        "    print(\"Score: 1\")\n",
        "    while True:\n",
        "        direction = input(\"Input Direction (w,a,s,d or q to quit): \")\n",
        "        if direction == 'w':\n",
        "            new_state, reward, gameOver, score = game.makeMove(0)\n",
        "        elif direction == 'a':\n",
        "            new_state, reward, gameOver, score = game.makeMove(3)\n",
        "        elif direction == 's':\n",
        "            new_state, reward, gameOver, score = game.makeMove(2)\n",
        "        elif direction == 'd':\n",
        "            new_state, reward, gameOver, score = game.makeMove(1)\n",
        "        elif direction == 'q':\n",
        "            break\n",
        "        if gameOver:\n",
        "            print(\"Game Over, Score:\", score)\n",
        "            break\n",
        "        else:\n",
        "            game.display()\n",
        "            print(\"Reward:\", reward, \"Score:\", score)\n"
      ]
    },
    {
      "cell_type": "markdown",
      "id": "703f1920-67a8-4568-a108-30fdc2cf20ef",
      "metadata": {
        "nteract": {
          "transient": {
            "deleting": false
          }
        }
      },
      "source": [
        "\n",
        "\n",
        "The machine can sometimes become trapped in an endless loop of non-scoring moves.\n"
      ]
    },
    {
      "cell_type": "code",
      "execution_count": 19,
      "id": "bb9f9b4c-a56d-4a59-abac-e1b2df5b9d10",
      "metadata": {
        "jupyter": {
          "outputs_hidden": false,
          "source_hidden": false
        },
        "nteract": {
          "transient": {
            "deleting": false
          }
        }
      },
      "outputs": [
        {
          "name": "stdout",
          "output_type": "stream",
          "text": [
            "Training for 10001 games...\n",
            "Episode 0 Average snake length without exploration: 1.04\n",
            "Episode 100 Average snake length without exploration: 5.36\n",
            "Episode 200 Average snake length without exploration: 5.68\n",
            "Episode 300 Average snake length without exploration: 4.28\n",
            "Episode 400 Average snake length without exploration: 8.52\n",
            "Episode 500 Average snake length without exploration: 8.4\n",
            "Episode 600 Average snake length without exploration: 9.24\n",
            "Episode 700 Average snake length without exploration: 10.2\n",
            "Episode 800 Average snake length without exploration: 15.36\n",
            "Episode 900 Average snake length without exploration: 14.68\n",
            "Episode 1000 Average snake length without exploration: 4.52\n",
            "Episode 1100 Average snake length without exploration: 20.16\n",
            "Episode 1200 Average snake length without exploration: 18.36\n",
            "Episode 1300 Average snake length without exploration: 17.84\n",
            "Episode 1400 Average snake length without exploration: 18.4\n",
            "Episode 1500 Average snake length without exploration: 20.0\n",
            "Episode 1600 Average snake length without exploration: 22.24\n",
            "Episode 1700 Average snake length without exploration: 18.44\n",
            "Episode 1800 Average snake length without exploration: 23.16\n",
            "Episode 1900 Average snake length without exploration: 19.92\n",
            "Episode 2000 Average snake length without exploration: 18.2\n",
            "Episode 2100 Average snake length without exploration: 19.64\n",
            "Episode 2200 Average snake length without exploration: 22.72\n",
            "Episode 2300 Average snake length without exploration: 21.0\n",
            "Episode 2400 Average snake length without exploration: 20.04\n",
            "Episode 2500 Average snake length without exploration: 16.16\n",
            "Episode 2600 Average snake length without exploration: 15.68\n",
            "Episode 2700 Average snake length without exploration: 18.72\n",
            "Episode 2800 Average snake length without exploration: 22.32\n",
            "Episode 2900 Average snake length without exploration: 25.16\n",
            "Episode 3000 Average snake length without exploration: 22.6\n",
            "Episode 3100 Average snake length without exploration: 22.12\n",
            "Episode 3200 Average snake length without exploration: 25.8\n",
            "Episode 3300 Average snake length without exploration: 23.6\n",
            "Episode 3400 Average snake length without exploration: 21.76\n",
            "Episode 3500 Average snake length without exploration: 22.76\n",
            "Episode 3600 Average snake length without exploration: 22.52\n",
            "Episode 3700 Average snake length without exploration: 21.56\n",
            "Episode 3800 Average snake length without exploration: 18.4\n",
            "Episode 3900 Average snake length without exploration: 17.72\n",
            "Episode 4000 Average snake length without exploration: 17.6\n",
            "Episode 4100 Average snake length without exploration: 24.28\n",
            "Episode 4200 Average snake length without exploration: 18.68\n",
            "Episode 4300 Average snake length without exploration: 24.8\n",
            "Episode 4400 Average snake length without exploration: 24.2\n",
            "Episode 4500 Average snake length without exploration: 24.84\n",
            "Episode 4600 Average snake length without exploration: 23.4\n",
            "Episode 4700 Average snake length without exploration: 21.84\n",
            "Episode 4800 Average snake length without exploration: 25.6\n",
            "Episode 4900 Average snake length without exploration: 25.16\n",
            "Episode 5000 Average snake length without exploration: 25.24\n",
            "Episode 5100 Average snake length without exploration: 22.92\n",
            "Episode 5200 Average snake length without exploration: 22.32\n",
            "Episode 5300 Average snake length without exploration: 19.72\n",
            "Episode 5400 Average snake length without exploration: 27.64\n",
            "Episode 5500 Average snake length without exploration: 28.28\n",
            "Episode 5600 Average snake length without exploration: 20.0\n",
            "Episode 5700 Average snake length without exploration: 23.28\n",
            "Episode 5800 Average snake length without exploration: 28.24\n",
            "Episode 5900 Average snake length without exploration: 28.6\n",
            "Episode 6000 Average snake length without exploration: 24.04\n",
            "Episode 6100 Average snake length without exploration: 24.8\n",
            "Episode 6200 Average snake length without exploration: 27.36\n",
            "Episode 6300 Average snake length without exploration: 26.64\n",
            "Episode 6400 Average snake length without exploration: 27.12\n",
            "Episode 6500 Average snake length without exploration: 27.08\n",
            "Episode 6600 Average snake length without exploration: 27.84\n",
            "Episode 6700 Average snake length without exploration: 25.6\n",
            "Episode 6800 Average snake length without exploration: 25.84\n",
            "Episode 6900 Average snake length without exploration: 33.28\n",
            "Episode 7000 Average snake length without exploration: 29.28\n",
            "Episode 7100 Average snake length without exploration: 28.08\n",
            "Episode 7200 Average snake length without exploration: 28.6\n",
            "Episode 7300 Average snake length without exploration: 25.48\n",
            "Episode 7400 Average snake length without exploration: 26.2\n",
            "Episode 7500 Average snake length without exploration: 29.52\n",
            "Episode 7600 Average snake length without exploration: 27.96\n",
            "Episode 7700 Average snake length without exploration: 31.36\n",
            "Episode 7800 Average snake length without exploration: 30.28\n",
            "Episode 7900 Average snake length without exploration: 27.16\n",
            "Episode 8000 Average snake length without exploration: 27.6\n",
            "Episode 8100 Average snake length without exploration: 29.0\n",
            "Episode 8200 Average snake length without exploration: 24.6\n",
            "Episode 8300 Average snake length without exploration: 30.6\n",
            "Episode 8400 Average snake length without exploration: 29.08\n",
            "Episode 8500 Average snake length without exploration: 28.96\n",
            "Episode 8600 Average snake length without exploration: 22.76\n",
            "Episode 8700 Average snake length without exploration: 23.68\n",
            "Episode 8800 Average snake length without exploration: 32.16\n",
            "Episode 8900 Average snake length without exploration: 25.88\n",
            "Episode 9000 Average snake length without exploration: 31.88\n",
            "Episode 9100 Average snake length without exploration: 28.6\n",
            "Episode 9200 Average snake length without exploration: 24.04\n",
            "Episode 9300 Average snake length without exploration: 34.56\n",
            "Episode 9400 Average snake length without exploration: 32.12\n",
            "Episode 9500 Average snake length without exploration: 27.0\n",
            "Episode 9600 Average snake length without exploration: 32.2\n",
            "Episode 9700 Average snake length without exploration: 29.6\n",
            "Episode 9800 Average snake length without exploration: 27.84\n",
            "Episode 9900 Average snake length without exploration: 28.2\n",
            "Episode 10000 Average snake length without exploration: 23.84\n",
            "Generating data for animation...\n",
            "Game 0 finished, total moves: 469\n",
            "Game 1 finished, total moves: 655\n",
            "Game 2 finished, total moves: 1136\n",
            "Game 3 finished, total moves: 1509\n",
            "Game 4 finished, total moves: 1907\n",
            "Game 5 finished, total moves: 2317\n",
            "Game 6 finished, total moves: 2668\n",
            "Game 7 finished, total moves: 3029\n",
            "Game 8 finished, total moves: 3362\n",
            "Game 9 finished, total moves: 3836\n",
            "Animating snakes at different episodes...\n"
          ]
        },
        {
          "data": {
            "image/png": "[encoded data removed]",
            "text/plain": [
              "<Figure size 648x648 with 9 Axes>"
            ]
          },
          "metadata": {
            "needs_background": "light"
          },
          "output_type": "display_data"
        },
        {
          "data": {
            "image/png": "[encoded data removed]",
            "text/plain": [
              "<Figure size 432x288 with 1 Axes>"
            ]
          },
          "metadata": {
            "needs_background": "light"
          },
          "output_type": "display_data"
        }
      ],
      "source": [
        "\n",
        "import random\n",
        "\n",
        "import numpy as np\n",
        "import matplotlib.pyplot as plt\n",
        "import matplotlib.animation as animation\n",
        "#%%\n",
        "\n",
        "def evaluateScore(Q, boardDim, numRuns, displayGame=False):\n",
        "    # Run the game for a specified number of runs given a specific Q matrix\n",
        "    cutoff = 100  # X moves without increasing score will cut off this game run\n",
        "    scores = []\n",
        "    for i in range(numRuns):\n",
        "        game = SnakeGame(boardDim, boardDim)\n",
        "        state = game.calcStateNum()\n",
        "        score = 0\n",
        "        oldScore = 0\n",
        "        gameOver = False\n",
        "        moveCounter = 0\n",
        "        while not gameOver:\n",
        "            possibleQs = Q[state, :]\n",
        "            action = np.argmax(possibleQs)\n",
        "            state, reward, gameOver, score = game.makeMove(action)\n",
        "            if score == oldScore:\n",
        "                moveCounter += 1\n",
        "            else:\n",
        "                oldScore = score\n",
        "                moveCounter = 0\n",
        "            if moveCounter >= cutoff:\n",
        "                # stuck going back and forth\n",
        "                break\n",
        "        scores.append(score)\n",
        "    return np.average(scores), scores\n",
        "\n",
        "\n",
        "\n",
        "boardDim = 16  # size of the baord\n",
        "\n",
        "# state is as follows.\n",
        "# Is direction blocked by wall or snake?\n",
        "# Is food in this direction? can either be one or two directions eg (food is left) or (food is left and up)\n",
        "# state =  (top blocked, right blocked, down blocked, left blocked, up food, right food, down food, left food)\n",
        "# 8 boolean values. Not all states are reachable (eg states with food directions that don't make sense)\n",
        "numStates = 2**8\n",
        "numActions = 4  # 4 directions that the snake can move\n",
        "Q = np.zeros((numStates, numActions))\n",
        "\n",
        "# lr = 0.9 #learning rate. not used in this Q learning equation\n",
        "gamma = 0.8  # discount rate\n",
        "epsilon = 0.2  # exploration rate in training games\n",
        "numEpisodes = 10001  # number of games to train for nanti di ganti 100001\n",
        "\n",
        "Qs = np.zeros([numEpisodes, numStates, numActions])\n",
        "bestLength = 0\n",
        "print(\"Training for\", numEpisodes, \"games...\")\n",
        "for episode in range(numEpisodes):\n",
        "    #    print(\"New Game\")\n",
        "    game = SnakeGame(boardDim, boardDim)\n",
        "    state = game.calcStateNum()\n",
        "    gameOver = False\n",
        "    score = 0\n",
        "    while not gameOver:\n",
        "        if random.uniform(0, 1) < epsilon:\n",
        "            action = random.randint(0, 3)\n",
        "        else:\n",
        "            possibleQs = Q[state, :]\n",
        "            action = np.argmax(possibleQs)\n",
        "        new_state, reward, gameOver, score = game.makeMove(action)\n",
        "        Q[state, action] = reward + gamma * np.max(Q[new_state, :])\n",
        "        state = new_state\n",
        "    Qs[episode, :, :] = np.copy(Q)\n",
        "    if episode % 100 == 0:\n",
        "        averageLength, lengths = evaluateScore(Q, boardDim, 25)\n",
        "        if averageLength > bestLength:\n",
        "            bestLength = averageLength\n",
        "            bestQ = np.copy(Q)\n",
        "        print(\"Episode\", episode, \"Average snake length without exploration:\", averageLength)\n",
        "        \n",
        "\n",
        "print(\"Generating data for animation...\")\n",
        "#plotEpisodes = [0, 200, 300, 400, 500, 600, 700, 800, 900]\n",
        "plotEpisodes = [0, 200, 400, 600, 800, 1000, 2500, 5000, 10000]\n",
        "fig, axes = plt.subplots(3, 3, figsize=(9,9))\n",
        "\n",
        "axList = []\n",
        "ims = []\n",
        "dataArrays = []\n",
        "scores = []\n",
        "labels = []\n",
        "\n",
        "for i, row in enumerate(axes):\n",
        "    for j, ax in enumerate(row):\n",
        "        ax.set_title(\"Episode \" + str(plotEpisodes[i*len(row) + j]))\n",
        "        ax.get_yaxis().set_visible(False)\n",
        "        ax.get_xaxis().set_visible(False)\n",
        "        axList.append(ax)\n",
        "        ims.append(ax.imshow(np.zeros([boardDim, boardDim]), vmin=-1, vmax=1, cmap='RdGy'))\n",
        "        labels.append(ax.text(0,15, \"Length: 0\", bbox={'facecolor':'w', 'alpha':0.75, 'pad':1, 'edgecolor':'white'}))\n",
        "        dataArrays.append(list())\n",
        "        scores.append(list())\n",
        "        \n",
        "stopAnimation = False\n",
        "maxFrames = 1000\n",
        "cutoff = 100\n",
        "numGames = 10\n",
        "for k in range(numGames):\n",
        "    games = []\n",
        "    states = []\n",
        "    gameOvers = []\n",
        "    moveCounters = []\n",
        "    oldScores = []\n",
        "    for l in range(len(plotEpisodes)):\n",
        "        game = SnakeGame(boardDim, boardDim)\n",
        "        games.append(game)\n",
        "        states.append(game.calcStateNum())\n",
        "        gameOvers.append(False)\n",
        "        moveCounters.append(0)\n",
        "        oldScores.append(0)\n",
        "    for j in range(maxFrames):\n",
        "        for i in range(len(plotEpisodes)):\n",
        "            possibleQs = Qs[plotEpisodes[i], :, :][states[i], :]\n",
        "            action = np.argmax(possibleQs)\n",
        "            states[i], reward, gameOver, score = games[i].makeMove(action)\n",
        "            if gameOver:\n",
        "                gameOvers[i] = True\n",
        "            dataArrays[i].append(games[i].plottableBoard())\n",
        "            scores[i].append(score)\n",
        "            if score == oldScores[i]:\n",
        "                moveCounters[i] += 1\n",
        "            else:\n",
        "                oldScores[i] = score\n",
        "                moveCounters[i] = 0\n",
        "            if moveCounters[i] >= cutoff:\n",
        "                gameOvers[i] = True\n",
        "        if not any(gameOver == False for gameOver in gameOvers):\n",
        "            print(\"Game\", k, \"finished, total moves:\", len(dataArrays[0]))\n",
        "            break\n",
        "\n",
        "def animate(frameNum):\n",
        "    for i, im in enumerate(ims):\n",
        "        labels[i].set_text(\"Length: \" + str(scores[i][frameNum]))\n",
        "        ims[i].set_data(dataArrays[i][frameNum])\n",
        "    return ims+labels\n",
        "print(\"Animating snakes at different episodes...\")\n",
        "\n",
        "numFrames = len(dataArrays[0])\n",
        "ani = animation.FuncAnimation(fig, func=animate, frames=numFrames,blit=True, interval=75, repeat=False, )\n",
        "plt.show(block=False)\n",
        "\n",
        "\n",
        "usedQs = []\n",
        "for index, val in np.ndenumerate(Qs[0,:,:]):\n",
        "    qLine = Qs[:, index[0], index[1]][:5000]\n",
        "    if any([item != 0 for item in qLine]) and qLine[-1] != 0:\n",
        "        usedQs.append(np.copy(qLine))\n",
        "        \n",
        "usedQs = np.abs(usedQs)\n",
        "y = []\n",
        "finalVals = []\n",
        "for i in range(len(usedQs)):\n",
        "    finalVal = np.mean(usedQs[i][-100:])\n",
        "    finalVals.append(finalVal)\n",
        "    y = (usedQs[i]-finalVal) / finalVal\n",
        "    plt.plot(y,color=\"black\",alpha=0.025)\n",
        "plt.ylim(-1,0.5)\n",
        "plt.title(\"Convergence of Q Table\")\n",
        "plt.ylabel(\"Normalized Q Value\")\n",
        "plt.xlabel(\"Episode Number\")\n",
        "plt.savefig(\"ConvergenceGraph.png\", dpi=300)\n",
        "plt.show()"
      ]
    },
    {
      "cell_type": "markdown",
      "id": "211e626b",
      "metadata": {},
      "source": [
        "### For install package qiskit-machine-learning"
      ]
    },
    {
      "cell_type": "code",
      "execution_count": 5,
      "id": "2143d2e6-a691-4f75-aae6-a96bc52cdfe1",
      "metadata": {
        "jupyter": {
          "outputs_hidden": false,
          "source_hidden": false
        },
        "nteract": {
          "transient": {
            "deleting": false
          }
        }
      },
      "outputs": [
        {
          "name": "stdout",
          "output_type": "stream",
          "text": [
            "Defaulting to user installation because normal site-packages is not writeable\n",
            "Collecting qiskit-machine-learning\n",
            "  Downloading qiskit_machine_learning-0.3.0-py3-none-any.whl (117 kB)\n",
            "     |████████████████████████████████| 117 kB 16.1 MB/s            \n",
            "\u001b[?25hCollecting fastdtw\n",
            "  Downloading fastdtw-0.3.4.tar.gz (133 kB)\n",
            "     |████████████████████████████████| 133 kB 54.9 MB/s            \n",
            "\u001b[?25h  Preparing metadata (setup.py) ... \u001b[?25l-\b \bdone\n",
            "\u001b[?25hRequirement already satisfied: psutil>=5 in /usr/local/lib/python3.7/site-packages (from qiskit-machine-learning) (5.9.0)\n",
            "Requirement already satisfied: scipy>=1.4 in /usr/local/lib/python3.7/site-packages (from qiskit-machine-learning) (1.7.3)\n",
            "Requirement already satisfied: setuptools>=40.1.0 in /usr/local/lib/python3.7/site-packages (from qiskit-machine-learning) (57.5.0)\n",
            "Collecting scikit-learn>=0.20.0\n",
            "  Downloading scikit_learn-1.0.2-cp37-cp37m-manylinux_2_17_x86_64.manylinux2014_x86_64.whl (24.8 MB)\n",
            "     |████████████████████████████████| 24.8 MB 216 kB/s             \n",
            "\u001b[?25hRequirement already satisfied: numpy>=1.17 in /usr/local/lib/python3.7/site-packages (from qiskit-machine-learning) (1.21.4)\n",
            "Requirement already satisfied: qiskit-terra>=0.19.1 in /usr/local/lib/python3.7/site-packages (from qiskit-machine-learning) (0.19.1)\n",
            "Requirement already satisfied: dill>=0.3.4 in /usr/local/lib/python3.7/site-packages (from qiskit-machine-learning) (0.3.4)\n",
            "Requirement already satisfied: tweedledum<2.0,>=1.1 in /usr/local/lib/python3.7/site-packages (from qiskit-terra>=0.19.1->qiskit-machine-learning) (1.1.1)\n",
            "Requirement already satisfied: retworkx>=0.10.1 in /usr/local/lib/python3.7/site-packages (from qiskit-terra>=0.19.1->qiskit-machine-learning) (0.10.2)\n",
            "Requirement already satisfied: python-constraint>=1.4 in /usr/local/lib/python3.7/site-packages (from qiskit-terra>=0.19.1->qiskit-machine-learning) (1.4.0)\n",
            "Requirement already satisfied: symengine>=0.8 in /usr/local/lib/python3.7/site-packages (from qiskit-terra>=0.19.1->qiskit-machine-learning) (0.8.1)\n",
            "Requirement already satisfied: stevedore>=3.0.0 in /usr/local/lib/python3.7/site-packages (from qiskit-terra>=0.19.1->qiskit-machine-learning) (3.5.0)\n",
            "Requirement already satisfied: ply>=3.10 in /usr/local/lib/python3.7/site-packages (from qiskit-terra>=0.19.1->qiskit-machine-learning) (3.11)\n",
            "Requirement already satisfied: sympy>=1.3 in /usr/local/lib/python3.7/site-packages (from qiskit-terra>=0.19.1->qiskit-machine-learning) (1.9)\n",
            "Requirement already satisfied: python-dateutil>=2.8.0 in /usr/local/lib/python3.7/site-packages (from qiskit-terra>=0.19.1->qiskit-machine-learning) (2.8.2)\n",
            "Collecting joblib>=0.11\n",
            "  Downloading joblib-1.1.0-py2.py3-none-any.whl (306 kB)\n",
            "     |████████████████████████████████| 306 kB 38.9 MB/s            \n",
            "\u001b[?25hCollecting threadpoolctl>=2.0.0\n",
            "  Downloading threadpoolctl-3.0.0-py3-none-any.whl (14 kB)\n",
            "Requirement already satisfied: six>=1.5 in /usr/local/lib/python3.7/site-packages (from python-dateutil>=2.8.0->qiskit-terra>=0.19.1->qiskit-machine-learning) (1.16.0)\n",
            "Requirement already satisfied: importlib-metadata>=1.7.0 in /usr/local/lib/python3.7/site-packages (from stevedore>=3.0.0->qiskit-terra>=0.19.1->qiskit-machine-learning) (2.1.2)\n",
            "Requirement already satisfied: pbr!=2.1.0,>=2.0.0 in /usr/local/lib/python3.7/site-packages (from stevedore>=3.0.0->qiskit-terra>=0.19.1->qiskit-machine-learning) (5.8.0)\n",
            "Requirement already satisfied: mpmath>=0.19 in /usr/local/lib/python3.7/site-packages (from sympy>=1.3->qiskit-terra>=0.19.1->qiskit-machine-learning) (1.2.1)\n",
            "Requirement already satisfied: zipp>=0.5 in /usr/local/lib/python3.7/site-packages (from importlib-metadata>=1.7.0->stevedore>=3.0.0->qiskit-terra>=0.19.1->qiskit-machine-learning) (3.6.0)\n",
            "Building wheels for collected packages: fastdtw\n",
            "  Building wheel for fastdtw (setup.py) ... \u001b[?25l-\b \bdone\n",
            "\u001b[?25h  Created wheel for fastdtw: filename=fastdtw-0.3.4-py3-none-any.whl size=3582 sha256=f51db7dca8e667a79da86d175043951a248674e2eb676648512c44bc6bdbf8de\n",
            "  Stored in directory: /home/jovyan/.cache/pip/wheels/a2/da/8c/2d1b9b233595056f05e59156bb555f7277b88beb385605de16\n",
            "Successfully built fastdtw\n",
            "Installing collected packages: threadpoolctl, joblib, scikit-learn, fastdtw, qiskit-machine-learning\n",
            "Successfully installed fastdtw-0.3.4 joblib-1.1.0 qiskit-machine-learning-0.3.0 scikit-learn-1.0.2 threadpoolctl-3.0.0\n",
            "Note: you may need to restart the kernel to use updated packages.\n"
          ]
        }
      ],
      "source": [
        "pip install qiskit-machine-learning"
      ]
    },
    {
      "cell_type": "markdown",
      "id": "10846d04-ad6a-4402-9523-96e351444f8f",
      "metadata": {},
      "source": [
        "Use `provider.backends` to see what targets are currently available. Running this method will trigger authentication to your Microsoft account, if you're not already logged in."
      ]
    },
    {
      "cell_type": "markdown",
      "id": "63cac9c7",
      "metadata": {},
      "source": [
        "### For installl torch"
      ]
    },
    {
      "cell_type": "code",
      "execution_count": 6,
      "id": "c335e0f3-6a48-4a75-b59b-7b16a09be160",
      "metadata": {
        "jupyter": {
          "outputs_hidden": false,
          "source_hidden": false
        },
        "nteract": {
          "transient": {
            "deleting": false
          }
        }
      },
      "outputs": [
        {
          "name": "stdout",
          "output_type": "stream",
          "text": [
            "Defaulting to user installation because normal site-packages is not writeable\n",
            "Collecting torch\n",
            "  Downloading torch-1.10.2-cp37-cp37m-manylinux1_x86_64.whl (881.9 MB)\n",
            "     |████████████████████████████████| 881.9 MB 470 bytes/s          07\n",
            "\u001b[?25hCollecting torchvision\n",
            "  Downloading torchvision-0.11.3-cp37-cp37m-manylinux1_x86_64.whl (23.2 MB)\n",
            "     |████████████████████████████████| 23.2 MB 26.2 MB/s            \n",
            "\u001b[?25hCollecting torchaudio\n",
            "  Downloading torchaudio-0.10.2-cp37-cp37m-manylinux1_x86_64.whl (2.9 MB)\n",
            "     |████████████████████████████████| 2.9 MB 38.3 MB/s            \n",
            "\u001b[?25hRequirement already satisfied: typing-extensions in /usr/local/lib/python3.7/site-packages (from torch) (4.0.1)\n",
            "Requirement already satisfied: numpy in /usr/local/lib/python3.7/site-packages (from torchvision) (1.21.4)\n",
            "Requirement already satisfied: pillow!=8.3.0,>=5.3.0 in /usr/local/lib/python3.7/site-packages (from torchvision) (9.0.0)\n",
            "Installing collected packages: torch, torchvision, torchaudio\n",
            "\u001b[33m  WARNING: The scripts convert-caffe2-to-onnx, convert-onnx-to-caffe2 and torchrun are installed in '/home/jovyan/.local/bin' which is not on PATH.\n",
            "  Consider adding this directory to PATH or, if you prefer to suppress this warning, use --no-warn-script-location.\u001b[0m\n",
            "Successfully installed torch-1.10.2 torchaudio-0.10.2 torchvision-0.11.3\n",
            "Note: you may need to restart the kernel to use updated packages.\n"
          ]
        }
      ],
      "source": [
        "pip install torch "
      ]
    },
    {
      "cell_type": "markdown",
      "id": "2d348eff",
      "metadata": {},
      "source": [
        "### For install Gym"
      ]
    },
    {
      "cell_type": "code",
      "execution_count": 7,
      "id": "f497bf83-a4b7-4902-a543-2a5707a2c70d",
      "metadata": {
        "jupyter": {
          "outputs_hidden": false,
          "source_hidden": false
        },
        "nteract": {
          "transient": {
            "deleting": false
          }
        }
      },
      "outputs": [
        {
          "name": "stdout",
          "output_type": "stream",
          "text": [
            "Defaulting to user installation because normal site-packages is not writeable\n",
            "Collecting gym\n",
            "  Downloading gym-0.21.0.tar.gz (1.5 MB)\n",
            "     |████████████████████████████████| 1.5 MB 12.6 MB/s            \n",
            "\u001b[?25h  Preparing metadata (setup.py) ... \u001b[?25l-\b \bdone\n",
            "\u001b[?25hRequirement already satisfied: numpy>=1.18.0 in /usr/local/lib/python3.7/site-packages (from gym) (1.21.4)\n",
            "Collecting cloudpickle>=1.2.0\n",
            "  Downloading cloudpickle-2.0.0-py3-none-any.whl (25 kB)\n",
            "Collecting importlib_metadata>=4.8.1\n",
            "  Downloading importlib_metadata-4.10.1-py3-none-any.whl (17 kB)\n",
            "Requirement already satisfied: zipp>=0.5 in /usr/local/lib/python3.7/site-packages (from importlib_metadata>=4.8.1->gym) (3.6.0)\n",
            "Requirement already satisfied: typing-extensions>=3.6.4 in /usr/local/lib/python3.7/site-packages (from importlib_metadata>=4.8.1->gym) (4.0.1)\n",
            "Building wheels for collected packages: gym\n",
            "  Building wheel for gym (setup.py) ... \u001b[?25l-\b \b\\\b \b|\b \b/\b \b-\b \bdone\n",
            "\u001b[?25h  Created wheel for gym: filename=gym-0.21.0-py3-none-any.whl size=1616822 sha256=febe4b62a81bfcc1547d20cbb89488e77e9e08df893c8d8fac2a659b8568640c\n",
            "  Stored in directory: /home/jovyan/.cache/pip/wheels/76/ee/9c/36bfe3e079df99acf5ae57f4e3464ff2771b34447d6d2f2148\n",
            "Successfully built gym\n",
            "Installing collected packages: importlib-metadata, cloudpickle, gym\n",
            "\u001b[31mERROR: pip's dependency resolver does not currently take into account all the packages that are installed. This behaviour is the source of the following dependency conflicts.\n",
            "basis-set-exchange 0.9 requires importlib-metadata<3; python_version == \"3.7\", but you have importlib-metadata 4.10.1 which is incompatible.\u001b[0m\n",
            "Successfully installed cloudpickle-2.0.0 gym-0.21.0 importlib-metadata-4.10.1\n",
            "Note: you may need to restart the kernel to use updated packages.\n"
          ]
        }
      ],
      "source": [
        "pip install gym"
      ]
    },
    {
      "cell_type": "markdown",
      "id": "0ed634fb",
      "metadata": {},
      "source": [
        "### Import packages"
      ]
    },
    {
      "cell_type": "code",
      "execution_count": 2,
      "id": "9d04d9ef-db27-41c7-b7f5-815c27221a15",
      "metadata": {
        "jupyter": {
          "outputs_hidden": false,
          "source_hidden": false
        },
        "nteract": {
          "transient": {
            "deleting": false
          }
        }
      },
      "outputs": [],
      "source": [
        "# General imports\n",
        "import numpy as np\n",
        "import matplotlib.pyplot as plt\n",
        "\n",
        "# Qiskit Circuit imports\n",
        "from qiskit.circuit import QuantumCircuit, QuantumRegister, Parameter, ParameterVector, ParameterExpression\n",
        "from qiskit.circuit.library import TwoLocal\n",
        "\n",
        "# Qiskit imports\n",
        "import qiskit as qk\n",
        "from qiskit.utils import QuantumInstance\n",
        "\n",
        "# Qiskit Machine Learning imports\n",
        "import qiskit_machine_learning as qkml\n",
        "from qiskit_machine_learning.neural_networks import CircuitQNN\n",
        "from qiskit_machine_learning.connectors import TorchConnector\n",
        "\n",
        "# PyTorch imports\n",
        "import torch\n",
        "from torch import Tensor\n",
        "from torch.nn import MSELoss\n",
        "from torch.optim import LBFGS, SGD, Adam, RMSprop\n",
        "\n",
        "# OpenAI Gym import\n",
        "import gym\n",
        "\n",
        "# Fix seed for reproducibility\n",
        "seed = 42\n",
        "np.random.seed(seed)\n",
        "torch.manual_seed(seed);\n",
        "\n",
        "# To get smooth animations on Jupyter Notebooks. \n",
        "# Note: these plotting function are taken from https://github.com/ageron/handson-ml2\n",
        "import matplotlib as mpl\n",
        "import matplotlib.animation as animation\n",
        "mpl.rc('animation', html='jshtml')\n",
        "\n",
        "def update_scene(num, frames, patch):\n",
        "    patch.set_data(frames[num])\n",
        "    return patch,\n",
        "\n",
        "def plot_animation(frames, repeat=False, interval=40):\n",
        "    fig = plt.figure()\n",
        "    patch = plt.imshow(frames[0])\n",
        "    plt.axis('off')\n",
        "    anim = animation.FuncAnimation(\n",
        "        fig, update_scene, fargs=(frames, patch),\n",
        "        frames=len(frames), repeat=repeat, interval=interval)\n",
        "    plt.close()\n",
        "    return anim\n"
      ]
    },
    {
      "cell_type": "markdown",
      "id": "1dd05a17",
      "metadata": {},
      "source": [
        "### Fuction encoding_circuit and parametrized_circuit [[1]](#1)\n",
        "\n",
        "`encoding_circuit` for load classical inputs. The input are state variable of `CartPole` environtment.\n",
        "\n",
        "`parametrized_circuit` encoding plus variation ansatz. "
      ]
    },
    {
      "cell_type": "code",
      "execution_count": 3,
      "id": "6ca6118d-89ff-4296-bccb-8c57dd1b86a9",
      "metadata": {},
      "outputs": [],
      "source": [
        "def encoding_circuit(inputs, num_qubits = 4, *args):\n",
        "    qc = qk.QuantumCircuit(num_qubits)\n",
        "    \n",
        "    # Encode data with a RX rotation\n",
        "    for i in range(len(inputs)): \n",
        "        qc.rx(inputs[i], i)\n",
        "        \n",
        "    return qc\n",
        "\n",
        "def parametrized_circuit(num_qubits = 4, reuploading = False, reps = 2, insert_barriers = True, meas = False):\n",
        "    qr = qk.QuantumRegister(num_qubits, 'qr')\n",
        "    qc = qk.QuantumCircuit(qr)\n",
        "    \n",
        "    if meas:\n",
        "        qr = qk.QuantumRegister(num_qubits, 'qr')\n",
        "        cr = qk.ClassicalRegister(num_qubits, 'cr')\n",
        "        qc = qk.QuantumCircuit(qr,cr)\n",
        "    \n",
        "    \n",
        "    if not reuploading:\n",
        "        \n",
        "        # Define a vector containg Inputs as parameters (*not* to be optimized)\n",
        "        inputs = qk.circuit.ParameterVector('x', num_qubits)\n",
        "                \n",
        "        # Encode classical input data\n",
        "        qc.compose(encoding_circuit(inputs, num_qubits = num_qubits), inplace = True)\n",
        "        if insert_barriers: qc.barrier()\n",
        "        \n",
        "        # Variational circuit\n",
        "        qc.compose(TwoLocal(num_qubits, ['ry', 'rz'], 'cz', 'circular', \n",
        "               reps=reps, insert_barriers= insert_barriers, \n",
        "               skip_final_rotation_layer = True), inplace = True)\n",
        "        if insert_barriers: qc.barrier()\n",
        "        \n",
        "        # Add final measurements\n",
        "        if meas: qc.measure(qr,cr)\n",
        "        \n",
        "    elif reuploading:\n",
        "        \n",
        "        # Define a vector containg Inputs as parameters (*not* to be optimized)\n",
        "        inputs = qk.circuit.ParameterVector('x', num_qubits)\n",
        "                \n",
        "        # Define a vector containng variational parameters\n",
        "        θ = qk.circuit.ParameterVector('θ', 2 * num_qubits * reps)\n",
        "        \n",
        "        # Iterate for a number of repetitions\n",
        "        for rep in range(reps):\n",
        "\n",
        "            # Encode classical input data\n",
        "            qc.compose(encoding_circuit(inputs, num_qubits = num_qubits), inplace = True)\n",
        "            if insert_barriers: qc.barrier()\n",
        "                \n",
        "            # Variational circuit (does the same as TwoLocal from Qiskit)\n",
        "            for qubit in range(num_qubits):\n",
        "                qc.ry(θ[qubit + 2*num_qubits*(rep)], qubit)\n",
        "                qc.rz(θ[qubit + 2*num_qubits*(rep) + num_qubits], qubit)\n",
        "            if insert_barriers: qc.barrier()\n",
        "                \n",
        "            # Add entanglers (this code is for a circular entangler)\n",
        "            qc.cz(qr[-1], qr[0])\n",
        "            for qubit in range(num_qubits-1):\n",
        "                qc.cz(qr[qubit], qr[qubit+1])\n",
        "            if insert_barriers: qc.barrier()\n",
        "                        \n",
        "        # Add final measurements\n",
        "        if meas: qc.measure(qr,cr)\n",
        "        \n",
        "    return qc\n"
      ]
    },
    {
      "cell_type": "markdown",
      "id": "563fa196-7efd-47a2-a3dd-e6f4f6d0031b",
      "metadata": {},
      "source": [
        "### Create PQCs (Parametrized Quantum Circuit) [[1]](#1)"
      ]
    },
    {
      "cell_type": "code",
      "execution_count": 4,
      "id": "d149cb33-cdf3-44cb-9445-e0581e7de14d",
      "metadata": {
        "jupyter": {
          "outputs_hidden": false,
          "source_hidden": false
        },
        "nteract": {
          "transient": {
            "deleting": false
          }
        }
      },
      "outputs": [
        {
          "data": {
            "text/html": [
              "<pre style=\"word-wrap: normal;white-space: pre;background: #fff0;line-height: 1.1;font-family: &quot;Courier New&quot;,Courier,monospace\">      ┌──────────┐ ░ ┌──────────┐┌──────────┐ ░              ░ ┌──────────┐ ░ »\n",
              "qr_0: ┤ Rx(x[0]) ├─░─┤ Ry(θ[0]) ├┤ Rz(θ[4]) ├─░──■──■────────░─┤ Rx(x[0]) ├─░─»\n",
              "      ├──────────┤ ░ ├──────────┤├──────────┤ ░  │  │        ░ ├──────────┤ ░ »\n",
              "qr_1: ┤ Rx(x[1]) ├─░─┤ Ry(θ[1]) ├┤ Rz(θ[5]) ├─░──┼──■──■─────░─┤ Rx(x[1]) ├─░─»\n",
              "      ├──────────┤ ░ ├──────────┤├──────────┤ ░  │     │     ░ ├──────────┤ ░ »\n",
              "qr_2: ┤ Rx(x[2]) ├─░─┤ Ry(θ[2]) ├┤ Rz(θ[6]) ├─░──┼─────■──■──░─┤ Rx(x[2]) ├─░─»\n",
              "      ├──────────┤ ░ ├──────────┤├──────────┤ ░  │        │  ░ ├──────────┤ ░ »\n",
              "qr_3: ┤ Rx(x[3]) ├─░─┤ Ry(θ[3]) ├┤ Rz(θ[7]) ├─░──■────────■──░─┤ Rx(x[3]) ├─░─»\n",
              "      └──────────┘ ░ └──────────┘└──────────┘ ░              ░ └──────────┘ ░ »\n",
              "«       ┌──────────┐┌───────────┐ ░              ░ ┌──────────┐ ░ ┌───────────┐»\n",
              "«qr_0: ─┤ Ry(θ[8]) ├┤ Rz(θ[12]) ├─░──■──■────────░─┤ Rx(x[0]) ├─░─┤ Ry(θ[16]) ├»\n",
              "«       ├──────────┤├───────────┤ ░  │  │        ░ ├──────────┤ ░ ├───────────┤»\n",
              "«qr_1: ─┤ Ry(θ[9]) ├┤ Rz(θ[13]) ├─░──┼──■──■─────░─┤ Rx(x[1]) ├─░─┤ Ry(θ[17]) ├»\n",
              "«      ┌┴──────────┤├───────────┤ ░  │     │     ░ ├──────────┤ ░ ├───────────┤»\n",
              "«qr_2: ┤ Ry(θ[10]) ├┤ Rz(θ[14]) ├─░──┼─────■──■──░─┤ Rx(x[2]) ├─░─┤ Ry(θ[18]) ├»\n",
              "«      ├───────────┤├───────────┤ ░  │        │  ░ ├──────────┤ ░ ├───────────┤»\n",
              "«qr_3: ┤ Ry(θ[11]) ├┤ Rz(θ[15]) ├─░──■────────■──░─┤ Rx(x[3]) ├─░─┤ Ry(θ[19]) ├»\n",
              "«      └───────────┘└───────────┘ ░              ░ └──────────┘ ░ └───────────┘»\n",
              "«      ┌───────────┐ ░              ░ ┌──────────┐ ░ ┌───────────┐┌───────────┐»\n",
              "«qr_0: ┤ Rz(θ[20]) ├─░──■──■────────░─┤ Rx(x[0]) ├─░─┤ Ry(θ[24]) ├┤ Rz(θ[28]) ├»\n",
              "«      ├───────────┤ ░  │  │        ░ ├──────────┤ ░ ├───────────┤├───────────┤»\n",
              "«qr_1: ┤ Rz(θ[21]) ├─░──┼──■──■─────░─┤ Rx(x[1]) ├─░─┤ Ry(θ[25]) ├┤ Rz(θ[29]) ├»\n",
              "«      ├───────────┤ ░  │     │     ░ ├──────────┤ ░ ├───────────┤├───────────┤»\n",
              "«qr_2: ┤ Rz(θ[22]) ├─░──┼─────■──■──░─┤ Rx(x[2]) ├─░─┤ Ry(θ[26]) ├┤ Rz(θ[30]) ├»\n",
              "«      ├───────────┤ ░  │        │  ░ ├──────────┤ ░ ├───────────┤├───────────┤»\n",
              "«qr_3: ┤ Rz(θ[23]) ├─░──■────────■──░─┤ Rx(x[3]) ├─░─┤ Ry(θ[27]) ├┤ Rz(θ[31]) ├»\n",
              "«      └───────────┘ ░              ░ └──────────┘ ░ └───────────┘└───────────┘»\n",
              "«       ░              ░ ┌──────────┐ ░ ┌───────────┐┌───────────┐ ░          »\n",
              "«qr_0: ─░──■──■────────░─┤ Rx(x[0]) ├─░─┤ Ry(θ[32]) ├┤ Rz(θ[36]) ├─░──■──■────»\n",
              "«       ░  │  │        ░ ├──────────┤ ░ ├───────────┤├───────────┤ ░  │  │    »\n",
              "«qr_1: ─░──┼──■──■─────░─┤ Rx(x[1]) ├─░─┤ Ry(θ[33]) ├┤ Rz(θ[37]) ├─░──┼──■──■─»\n",
              "«       ░  │     │     ░ ├──────────┤ ░ ├───────────┤├───────────┤ ░  │     │ »\n",
              "«qr_2: ─░──┼─────■──■──░─┤ Rx(x[2]) ├─░─┤ Ry(θ[34]) ├┤ Rz(θ[38]) ├─░──┼─────■─»\n",
              "«       ░  │        │  ░ ├──────────┤ ░ ├───────────┤├───────────┤ ░  │       »\n",
              "«qr_3: ─░──■────────■──░─┤ Rx(x[3]) ├─░─┤ Ry(θ[35]) ├┤ Rz(θ[39]) ├─░──■───────»\n",
              "«       ░              ░ └──────────┘ ░ └───────────┘└───────────┘ ░          »\n",
              "«          ░ ┌──────────┐ ░ ┌───────────┐┌───────────┐ ░              ░ \n",
              "«qr_0: ────░─┤ Rx(x[0]) ├─░─┤ Ry(θ[40]) ├┤ Rz(θ[44]) ├─░──■──■────────░─\n",
              "«          ░ ├──────────┤ ░ ├───────────┤├───────────┤ ░  │  │        ░ \n",
              "«qr_1: ────░─┤ Rx(x[1]) ├─░─┤ Ry(θ[41]) ├┤ Rz(θ[45]) ├─░──┼──■──■─────░─\n",
              "«          ░ ├──────────┤ ░ ├───────────┤├───────────┤ ░  │     │     ░ \n",
              "«qr_2: ─■──░─┤ Rx(x[2]) ├─░─┤ Ry(θ[42]) ├┤ Rz(θ[46]) ├─░──┼─────■──■──░─\n",
              "«       │  ░ ├──────────┤ ░ ├───────────┤├───────────┤ ░  │        │  ░ \n",
              "«qr_3: ─■──░─┤ Rx(x[3]) ├─░─┤ Ry(θ[43]) ├┤ Rz(θ[47]) ├─░──■────────■──░─\n",
              "«          ░ └──────────┘ ░ └───────────┘└───────────┘ ░              ░ </pre>"
            ],
            "text/plain": [
              "      ┌──────────┐ ░ ┌──────────┐┌──────────┐ ░              ░ ┌──────────┐ ░ »\n",
              "qr_0: ┤ Rx(x[0]) ├─░─┤ Ry(θ[0]) ├┤ Rz(θ[4]) ├─░──■──■────────░─┤ Rx(x[0]) ├─░─»\n",
              "      ├──────────┤ ░ ├──────────┤├──────────┤ ░  │  │        ░ ├──────────┤ ░ »\n",
              "qr_1: ┤ Rx(x[1]) ├─░─┤ Ry(θ[1]) ├┤ Rz(θ[5]) ├─░──┼──■──■─────░─┤ Rx(x[1]) ├─░─»\n",
              "      ├──────────┤ ░ ├──────────┤├──────────┤ ░  │     │     ░ ├──────────┤ ░ »\n",
              "qr_2: ┤ Rx(x[2]) ├─░─┤ Ry(θ[2]) ├┤ Rz(θ[6]) ├─░──┼─────■──■──░─┤ Rx(x[2]) ├─░─»\n",
              "      ├──────────┤ ░ ├──────────┤├──────────┤ ░  │        │  ░ ├──────────┤ ░ »\n",
              "qr_3: ┤ Rx(x[3]) ├─░─┤ Ry(θ[3]) ├┤ Rz(θ[7]) ├─░──■────────■──░─┤ Rx(x[3]) ├─░─»\n",
              "      └──────────┘ ░ └──────────┘└──────────┘ ░              ░ └──────────┘ ░ »\n",
              "«       ┌──────────┐┌───────────┐ ░              ░ ┌──────────┐ ░ ┌───────────┐»\n",
              "«qr_0: ─┤ Ry(θ[8]) ├┤ Rz(θ[12]) ├─░──■──■────────░─┤ Rx(x[0]) ├─░─┤ Ry(θ[16]) ├»\n",
              "«       ├──────────┤├───────────┤ ░  │  │        ░ ├──────────┤ ░ ├───────────┤»\n",
              "«qr_1: ─┤ Ry(θ[9]) ├┤ Rz(θ[13]) ├─░──┼──■──■─────░─┤ Rx(x[1]) ├─░─┤ Ry(θ[17]) ├»\n",
              "«      ┌┴──────────┤├───────────┤ ░  │     │     ░ ├──────────┤ ░ ├───────────┤»\n",
              "«qr_2: ┤ Ry(θ[10]) ├┤ Rz(θ[14]) ├─░──┼─────■──■──░─┤ Rx(x[2]) ├─░─┤ Ry(θ[18]) ├»\n",
              "«      ├───────────┤├───────────┤ ░  │        │  ░ ├──────────┤ ░ ├───────────┤»\n",
              "«qr_3: ┤ Ry(θ[11]) ├┤ Rz(θ[15]) ├─░──■────────■──░─┤ Rx(x[3]) ├─░─┤ Ry(θ[19]) ├»\n",
              "«      └───────────┘└───────────┘ ░              ░ └──────────┘ ░ └───────────┘»\n",
              "«      ┌───────────┐ ░              ░ ┌──────────┐ ░ ┌───────────┐┌───────────┐»\n",
              "«qr_0: ┤ Rz(θ[20]) ├─░──■──■────────░─┤ Rx(x[0]) ├─░─┤ Ry(θ[24]) ├┤ Rz(θ[28]) ├»\n",
              "«      ├───────────┤ ░  │  │        ░ ├──────────┤ ░ ├───────────┤├───────────┤»\n",
              "«qr_1: ┤ Rz(θ[21]) ├─░──┼──■──■─────░─┤ Rx(x[1]) ├─░─┤ Ry(θ[25]) ├┤ Rz(θ[29]) ├»\n",
              "«      ├───────────┤ ░  │     │     ░ ├──────────┤ ░ ├───────────┤├───────────┤»\n",
              "«qr_2: ┤ Rz(θ[22]) ├─░──┼─────■──■──░─┤ Rx(x[2]) ├─░─┤ Ry(θ[26]) ├┤ Rz(θ[30]) ├»\n",
              "«      ├───────────┤ ░  │        │  ░ ├──────────┤ ░ ├───────────┤├───────────┤»\n",
              "«qr_3: ┤ Rz(θ[23]) ├─░──■────────■──░─┤ Rx(x[3]) ├─░─┤ Ry(θ[27]) ├┤ Rz(θ[31]) ├»\n",
              "«      └───────────┘ ░              ░ └──────────┘ ░ └───────────┘└───────────┘»\n",
              "«       ░              ░ ┌──────────┐ ░ ┌───────────┐┌───────────┐ ░          »\n",
              "«qr_0: ─░──■──■────────░─┤ Rx(x[0]) ├─░─┤ Ry(θ[32]) ├┤ Rz(θ[36]) ├─░──■──■────»\n",
              "«       ░  │  │        ░ ├──────────┤ ░ ├───────────┤├───────────┤ ░  │  │    »\n",
              "«qr_1: ─░──┼──■──■─────░─┤ Rx(x[1]) ├─░─┤ Ry(θ[33]) ├┤ Rz(θ[37]) ├─░──┼──■──■─»\n",
              "«       ░  │     │     ░ ├──────────┤ ░ ├───────────┤├───────────┤ ░  │     │ »\n",
              "«qr_2: ─░──┼─────■──■──░─┤ Rx(x[2]) ├─░─┤ Ry(θ[34]) ├┤ Rz(θ[38]) ├─░──┼─────■─»\n",
              "«       ░  │        │  ░ ├──────────┤ ░ ├───────────┤├───────────┤ ░  │       »\n",
              "«qr_3: ─░──■────────■──░─┤ Rx(x[3]) ├─░─┤ Ry(θ[35]) ├┤ Rz(θ[39]) ├─░──■───────»\n",
              "«       ░              ░ └──────────┘ ░ └───────────┘└───────────┘ ░          »\n",
              "«          ░ ┌──────────┐ ░ ┌───────────┐┌───────────┐ ░              ░ \n",
              "«qr_0: ────░─┤ Rx(x[0]) ├─░─┤ Ry(θ[40]) ├┤ Rz(θ[44]) ├─░──■──■────────░─\n",
              "«          ░ ├──────────┤ ░ ├───────────┤├───────────┤ ░  │  │        ░ \n",
              "«qr_1: ────░─┤ Rx(x[1]) ├─░─┤ Ry(θ[41]) ├┤ Rz(θ[45]) ├─░──┼──■──■─────░─\n",
              "«          ░ ├──────────┤ ░ ├───────────┤├───────────┤ ░  │     │     ░ \n",
              "«qr_2: ─■──░─┤ Rx(x[2]) ├─░─┤ Ry(θ[42]) ├┤ Rz(θ[46]) ├─░──┼─────■──■──░─\n",
              "«       │  ░ ├──────────┤ ░ ├───────────┤├───────────┤ ░  │        │  ░ \n",
              "«qr_3: ─■──░─┤ Rx(x[3]) ├─░─┤ Ry(θ[43]) ├┤ Rz(θ[47]) ├─░──■────────■──░─\n",
              "«          ░ └──────────┘ ░ └───────────┘└───────────┘ ░              ░ "
            ]
          },
          "execution_count": 4,
          "metadata": {},
          "output_type": "execute_result"
        }
      ],
      "source": [
        "\n",
        "\n",
        "# Select the number of qubits\n",
        "num_qubits = 4\n",
        "\n",
        "# Generate the Parametrized Quantum Circuit (note the flags reuploading and reps)\n",
        "qc = parametrized_circuit(num_qubits = num_qubits, \n",
        "                          reuploading = True, \n",
        "                          reps = 6)\n",
        "\n",
        "# Fetch the parameters from the circuit and divide them in Inputs (X) and Trainable Parameters (params)\n",
        "# The first four parameters are for the inputs \n",
        "X = list(qc.parameters)[: num_qubits]\n",
        "\n",
        "# The remaining ones are the trainable weights of the quantum neural network\n",
        "params = list(qc.parameters)[num_qubits:]\n",
        "\n",
        "qc.draw()\n",
        "\n"
      ]
    },
    {
      "cell_type": "markdown",
      "id": "19f4a381",
      "metadata": {},
      "source": [
        "### import package"
      ]
    },
    {
      "cell_type": "code",
      "execution_count": 3,
      "id": "cdfecadc-b2f7-4bc0-b52d-6951ffaaff74",
      "metadata": {
        "jupyter": {
          "outputs_hidden": false,
          "source_hidden": false
        },
        "nteract": {
          "transient": {
            "deleting": false
          }
        }
      },
      "outputs": [],
      "source": [
        "from qiskit import Aer\n",
        "from qiskit import *"
      ]
    },
    {
      "cell_type": "markdown",
      "id": "f896f59b",
      "metadata": {},
      "source": [
        "### install qiskit-aer"
      ]
    },
    {
      "cell_type": "code",
      "execution_count": 8,
      "id": "e94bfc7f-7914-4641-a760-35f1dad717f6",
      "metadata": {
        "jupyter": {
          "outputs_hidden": false,
          "source_hidden": false
        },
        "nteract": {
          "transient": {
            "deleting": false
          }
        }
      },
      "outputs": [
        {
          "name": "stdout",
          "output_type": "stream",
          "text": [
            "Defaulting to user installation because normal site-packages is not writeable\n",
            "Collecting qiskit-aer\n",
            "  Downloading qiskit_aer-0.10.2-cp37-cp37m-manylinux_2_12_x86_64.manylinux2010_x86_64.whl (18.0 MB)\n",
            "     |████████████████████████████████| 18.0 MB 9.2 MB/s            \n",
            "\u001b[?25hRequirement already satisfied: scipy>=1.0 in /usr/local/lib/python3.7/site-packages (from qiskit-aer) (1.7.3)\n",
            "Requirement already satisfied: numpy>=1.16.3 in /usr/local/lib/python3.7/site-packages (from qiskit-aer) (1.21.4)\n",
            "Requirement already satisfied: qiskit-terra>=0.19.1 in /usr/local/lib/python3.7/site-packages (from qiskit-aer) (0.19.1)\n",
            "Requirement already satisfied: tweedledum<2.0,>=1.1 in /usr/local/lib/python3.7/site-packages (from qiskit-terra>=0.19.1->qiskit-aer) (1.1.1)\n",
            "Requirement already satisfied: retworkx>=0.10.1 in /usr/local/lib/python3.7/site-packages (from qiskit-terra>=0.19.1->qiskit-aer) (0.10.2)\n",
            "Requirement already satisfied: python-constraint>=1.4 in /usr/local/lib/python3.7/site-packages (from qiskit-terra>=0.19.1->qiskit-aer) (1.4.0)\n",
            "Requirement already satisfied: stevedore>=3.0.0 in /usr/local/lib/python3.7/site-packages (from qiskit-terra>=0.19.1->qiskit-aer) (3.5.0)\n",
            "Requirement already satisfied: symengine>=0.8 in /usr/local/lib/python3.7/site-packages (from qiskit-terra>=0.19.1->qiskit-aer) (0.8.1)\n",
            "Requirement already satisfied: python-dateutil>=2.8.0 in /usr/local/lib/python3.7/site-packages (from qiskit-terra>=0.19.1->qiskit-aer) (2.8.2)\n",
            "Requirement already satisfied: ply>=3.10 in /usr/local/lib/python3.7/site-packages (from qiskit-terra>=0.19.1->qiskit-aer) (3.11)\n",
            "Requirement already satisfied: dill>=0.3 in /usr/local/lib/python3.7/site-packages (from qiskit-terra>=0.19.1->qiskit-aer) (0.3.4)\n",
            "Requirement already satisfied: psutil>=5 in /usr/local/lib/python3.7/site-packages (from qiskit-terra>=0.19.1->qiskit-aer) (5.9.0)\n",
            "Requirement already satisfied: sympy>=1.3 in /usr/local/lib/python3.7/site-packages (from qiskit-terra>=0.19.1->qiskit-aer) (1.9)\n",
            "Requirement already satisfied: six>=1.5 in /usr/local/lib/python3.7/site-packages (from python-dateutil>=2.8.0->qiskit-terra>=0.19.1->qiskit-aer) (1.16.0)\n",
            "Requirement already satisfied: pbr!=2.1.0,>=2.0.0 in /usr/local/lib/python3.7/site-packages (from stevedore>=3.0.0->qiskit-terra>=0.19.1->qiskit-aer) (5.8.0)\n",
            "Requirement already satisfied: importlib-metadata>=1.7.0 in ./.local/lib/python3.7/site-packages (from stevedore>=3.0.0->qiskit-terra>=0.19.1->qiskit-aer) (4.10.1)\n",
            "Requirement already satisfied: mpmath>=0.19 in /usr/local/lib/python3.7/site-packages (from sympy>=1.3->qiskit-terra>=0.19.1->qiskit-aer) (1.2.1)\n",
            "Requirement already satisfied: typing-extensions>=3.6.4 in /usr/local/lib/python3.7/site-packages (from importlib-metadata>=1.7.0->stevedore>=3.0.0->qiskit-terra>=0.19.1->qiskit-aer) (4.0.1)\n",
            "Requirement already satisfied: zipp>=0.5 in /usr/local/lib/python3.7/site-packages (from importlib-metadata>=1.7.0->stevedore>=3.0.0->qiskit-terra>=0.19.1->qiskit-aer) (3.6.0)\n",
            "Installing collected packages: qiskit-aer\n",
            "Successfully installed qiskit-aer-0.10.2\n",
            "Note: you may need to restart the kernel to use updated packages.\n"
          ]
        }
      ],
      "source": [
        "pip install qiskit-aer"
      ]
    },
    {
      "cell_type": "code",
      "execution_count": 6,
      "id": "c522f817-d558-40c2-8fe8-3723186b63b0",
      "metadata": {
        "jupyter": {
          "outputs_hidden": false,
          "source_hidden": false
        },
        "nteract": {
          "transient": {
            "deleting": false
          }
        }
      },
      "outputs": [],
      "source": [
        "qi = Aer.get_backend('statevector_simulator')"
      ]
    },
    {
      "cell_type": "markdown",
      "id": "ede2a60d",
      "metadata": {},
      "source": [
        "### Create PyTorch Model from the parametrized quantum circuit\n",
        "\n",
        " `CircuitQNN` and `TorchConnector` in `qiskit_machine_learning`"
      ]
    },
    {
      "cell_type": "code",
      "execution_count": 15,
      "id": "4ad2088d-dd80-441b-8b21-2b3aeabd04c9",
      "metadata": {
        "jupyter": {
          "outputs_hidden": false,
          "source_hidden": false
        },
        "nteract": {
          "transient": {
            "deleting": false
          }
        }
      },
      "outputs": [],
      "source": [
        "from qiskit_machine_learning.neural_networks import CircuitQNN"
      ]
    },
    {
      "cell_type": "code",
      "execution_count": 7,
      "id": "834f00a0-9deb-403b-8598-da096a6e072a",
      "metadata": {
        "jupyter": {
          "outputs_hidden": false,
          "source_hidden": false
        },
        "nteract": {
          "transient": {
            "deleting": false
          }
        }
      },
      "outputs": [],
      "source": [
        "# Select a quantum backend to run the simulation of the quantum circuit\n",
        "\n",
        "\n",
        "# Create a Quantum Neural Network object starting from the quantum circuit defined above\n",
        "qnn = CircuitQNN(qc, input_params=X, weight_params=params, \n",
        "                 quantum_instance = qi)\n",
        "\n",
        "# Connect to PyTorch\n",
        "initial_weights = (2*np.random.rand(qnn.num_weights) - 1)\n",
        "quantum_nn = TorchConnector(qnn, initial_weights)\n"
      ]
    },
    {
      "cell_type": "code",
      "execution_count": 8,
      "id": "014b8827-566e-465a-ad05-8e4f557aae34",
      "metadata": {
        "jupyter": {
          "outputs_hidden": false,
          "source_hidden": false
        },
        "nteract": {
          "transient": {
            "deleting": false
          }
        }
      },
      "outputs": [],
      "source": [
        "class encoding_layer(torch.nn.Module):\n",
        "    def __init__(self, num_qubits = 4):\n",
        "        super().__init__()\n",
        "        \n",
        "        # Define weights for the layer\n",
        "        weights = torch.Tensor(num_qubits)\n",
        "        self.weights = torch.nn.Parameter(weights)\n",
        "        torch.nn.init.uniform_(self.weights, -1, 1) # <--  Initialization strategy\n",
        "    \n",
        "        \n",
        "    def forward(self, x):\n",
        "        \"\"\"Forward step, as explained above.\"\"\"\n",
        "        \n",
        "        if not isinstance(x, Tensor):\n",
        "            x = Tensor(x)\n",
        "        \n",
        "        x = self.weights * x\n",
        "        x = torch.atan(x)\n",
        "                \n",
        "        return x"
      ]
    },
    {
      "cell_type": "code",
      "execution_count": 9,
      "id": "a5142536-c1f4-41c3-9a0b-ccbba53c62aa",
      "metadata": {
        "jupyter": {
          "outputs_hidden": false,
          "source_hidden": false
        },
        "nteract": {
          "transient": {
            "deleting": false
          }
        }
      },
      "outputs": [],
      "source": [
        "class exp_val_layer(torch.nn.Module):\n",
        "    def __init__(self, action_space = 2):\n",
        "        super().__init__()\n",
        "        \n",
        "        # Define the weights for the layer\n",
        "        weights = torch.Tensor(action_space)\n",
        "        self.weights = torch.nn.Parameter(weights)\n",
        "        torch.nn.init.uniform_(self.weights, 35, 40) # <-- Initialization strategy (heuristic choice)\n",
        "        \n",
        "        # Masks that map the vector of probabilities to <Z_0*Z_1> and <Z_2*Z_3>\n",
        "        self.mask_ZZ_12 = torch.tensor([1.,-1.,-1.,1.,1.,-1.,-1.,1.,1.,-1.,-1.,1.,1.,-1.,-1.,1.], requires_grad = False)\n",
        "        self.mask_ZZ_34 = torch.tensor([-1.,-1.,-1.,-1.,1.,1.,1.,1.,-1.,-1.,-1.,-1.,1.,1.,1.,1.], requires_grad = False)\n",
        "        \n",
        "    def forward(self, x):\n",
        "        \"\"\"Forward step, as described above.\"\"\"\n",
        "        \n",
        "        expval_ZZ_12 = self.mask_ZZ_12 * x\n",
        "        expval_ZZ_34 = self.mask_ZZ_34 * x\n",
        "        \n",
        "        # Single sample\n",
        "        if len(x.shape) == 1:\n",
        "            expval_ZZ_12 = torch.sum(expval_ZZ_12)\n",
        "            expval_ZZ_34 = torch.sum(expval_ZZ_34)\n",
        "            out = torch.cat((expval_ZZ_12.unsqueeze(0), expval_ZZ_34.unsqueeze(0)))\n",
        "        \n",
        "        # Batch of samples\n",
        "        else:\n",
        "            expval_ZZ_12 = torch.sum(expval_ZZ_12, dim = 1, keepdim = True)\n",
        "            expval_ZZ_34 = torch.sum(expval_ZZ_34, dim = 1, keepdim = True)\n",
        "            out = torch.cat((expval_ZZ_12, expval_ZZ_34), 1)\n",
        "                \n",
        "        return self.weights * ((out + 1.) / 2.)\n"
      ]
    },
    {
      "cell_type": "markdown",
      "id": "86ac438b",
      "metadata": {},
      "source": [
        "### Construct final model hybrid classical-quantum\n",
        "\n",
        "`model` = `encoding_layer` --> `quantum_layer` --> `exp_val_layer`"
      ]
    },
    {
      "cell_type": "code",
      "execution_count": 10,
      "id": "b998151a-9cf9-464f-8913-d7bf6cca6052",
      "metadata": {
        "jupyter": {
          "outputs_hidden": false,
          "source_hidden": false
        },
        "nteract": {
          "transient": {
            "deleting": false
          }
        }
      },
      "outputs": [
        {
          "data": {
            "text/plain": [
              "OrderedDict([('0.weights', tensor([ 0.7645,  0.8300, -0.2343,  0.9186])),\n",
              "             ('1.weight',\n",
              "              tensor([-0.2509,  0.9014,  0.4640,  0.1973, -0.6880, -0.6880, -0.8838,  0.7324,\n",
              "                       0.2022,  0.4161, -0.9588,  0.9398,  0.6649, -0.5753, -0.6364, -0.6332,\n",
              "                      -0.3915,  0.0495, -0.1361, -0.4175,  0.2237, -0.7210, -0.4157, -0.2673,\n",
              "                      -0.0879,  0.5704, -0.6007,  0.0285,  0.1848, -0.9071,  0.2151, -0.6590,\n",
              "                      -0.8699,  0.8978,  0.9313,  0.6168, -0.3908, -0.8047,  0.3685, -0.1197,\n",
              "                      -0.7559, -0.0096, -0.9312,  0.8186, -0.4824,  0.3250, -0.3766,  0.0401])),\n",
              "             ('1._weights',\n",
              "              tensor([-0.2509,  0.9014,  0.4640,  0.1973, -0.6880, -0.6880, -0.8838,  0.7324,\n",
              "                       0.2022,  0.4161, -0.9588,  0.9398,  0.6649, -0.5753, -0.6364, -0.6332,\n",
              "                      -0.3915,  0.0495, -0.1361, -0.4175,  0.2237, -0.7210, -0.4157, -0.2673,\n",
              "                      -0.0879,  0.5704, -0.6007,  0.0285,  0.1848, -0.9071,  0.2151, -0.6590,\n",
              "                      -0.8699,  0.8978,  0.9313,  0.6168, -0.3908, -0.8047,  0.3685, -0.1197,\n",
              "                      -0.7559, -0.0096, -0.9312,  0.8186, -0.4824,  0.3250, -0.3766,  0.0401])),\n",
              "             ('2.weights', tensor([36.9522, 38.0045]))])"
            ]
          },
          "execution_count": 10,
          "metadata": {},
          "output_type": "execute_result"
        }
      ],
      "source": [
        "# Classical trainable preprocessing\n",
        "encoding = encoding_layer()\n",
        "\n",
        "# Classical trainable postprocessing\n",
        "exp_val = exp_val_layer()\n",
        "\n",
        "# Stack the classical and quantum layers together \n",
        "model = torch.nn.Sequential(encoding, \n",
        "                            quantum_nn, \n",
        "                            exp_val)\n",
        "\n",
        "model.state_dict()\n"
      ]
    },
    {
      "cell_type": "markdown",
      "id": "29d8171b",
      "metadata": {},
      "source": [
        "### create CartPole environtment"
      ]
    },
    {
      "cell_type": "code",
      "execution_count": 11,
      "id": "4a5ddd0a-e096-4105-900f-54a262d1f8c2",
      "metadata": {
        "jupyter": {
          "outputs_hidden": false,
          "source_hidden": false
        },
        "nteract": {
          "transient": {
            "deleting": false
          }
        }
      },
      "outputs": [],
      "source": [
        "env = gym.make(\"CartPole-v1\")\n",
        "input_shape = [4] # == env.observation_space.shape\n",
        "n_outputs = 2 # == env.action_space.n\n"
      ]
    },
    {
      "cell_type": "markdown",
      "id": "2921589c",
      "metadata": {},
      "source": [
        "### Training Function\n",
        "\n",
        "Use Appoximate Q-Learning Algorithm [[2]](#2)"
      ]
    },
    {
      "cell_type": "code",
      "execution_count": 12,
      "id": "ff614fcb-0310-4d45-a5b9-cc835980861a",
      "metadata": {
        "jupyter": {
          "outputs_hidden": false,
          "source_hidden": false
        },
        "nteract": {
          "transient": {
            "deleting": false
          }
        }
      },
      "outputs": [],
      "source": [
        "from collections import deque\n",
        "\n",
        "replay_memory = deque(maxlen=2000)\n"
      ]
    },
    {
      "cell_type": "code",
      "execution_count": 13,
      "id": "f32eef2b-4527-458c-a70c-e62950153b7c",
      "metadata": {
        "jupyter": {
          "outputs_hidden": false,
          "source_hidden": false
        },
        "nteract": {
          "transient": {
            "deleting": false
          }
        }
      },
      "outputs": [],
      "source": [
        "def epsilon_greedy_policy(state, epsilon=0):\n",
        "    \"\"\"Manages the transition from the *exploration* to *exploitation* phase\"\"\"\n",
        "    if np.random.rand() < epsilon:\n",
        "        return np.random.randint(n_outputs)\n",
        "    else:\n",
        "        with torch.no_grad():\n",
        "            Q_values = model(Tensor(state)).numpy()\n",
        "        return np.argmax(Q_values[0])\n",
        "    \n",
        "def sample_experiences(batch_size):\n",
        "    \"\"\"Sample some past experiences from the replay memory\"\"\"\n",
        "    indices = np.random.randint(len(replay_memory), size=batch_size)\n",
        "    batch = [replay_memory[index] for index in indices]\n",
        "    states, actions, rewards, next_states, dones = [\n",
        "        np.array([experience[field_index] for experience in batch])\n",
        "        for field_index in range(5)]\n",
        "    return states, actions, rewards, next_states, dones\n",
        "\n",
        "def play_one_step(env, state, epsilon):\n",
        "    \"\"\"Perform one action in the environment and register the state of the system\"\"\"\n",
        "    action = epsilon_greedy_policy(state, epsilon)\n",
        "    next_state, reward, done, info = env.step(action)\n",
        "    replay_memory.append((state, action, reward, next_state, done))\n",
        "    return next_state, reward, done, info\n",
        "\n",
        "def sequential_training_step(batch_size): \n",
        "    # Sample past experiences \n",
        "    experiences = sample_experiences(batch_size)\n",
        "    states, actions, rewards, next_states, dones = experiences\n",
        "    \n",
        "    # Evaluates Target Q-values\n",
        "    with torch.no_grad():\n",
        "        next_Q_values = model(Tensor(next_states)).numpy()\n",
        "    max_next_Q_values = np.max(next_Q_values, axis=1)\n",
        "    target_Q_values = (rewards + (1 - dones) * discount_rate * max_next_Q_values)\n",
        "    \n",
        "    # Accumulate Loss sequentially (if batching data, gradients of the parameters are vanishing)\n",
        "    loss = 0.\n",
        "    for j, state in enumerate(states):\n",
        "        single_Q_value = model(Tensor(state))\n",
        "        Q_value = single_Q_value[actions[j]]\n",
        "        loss += (target_Q_values[j] - Q_value)**2\n",
        "    \n",
        "    # Evaluate the gradients and update the parameters \n",
        "    optimizer.zero_grad()\n",
        "    loss.backward()\n",
        "    optimizer.step()\n",
        "\n",
        "def training_step(batch_size):\n",
        "    # Sample past experiences\n",
        "    experiences = sample_experiences(batch_size)\n",
        "    states, actions, rewards, next_states, dones = experiences\n",
        "    \n",
        "    # Evaluate Target Q-values\n",
        "    with torch.no_grad():\n",
        "        next_Q_values = model(Tensor(next_states)).numpy()\n",
        "    max_next_Q_values = np.max(next_Q_values, axis=1)\n",
        "    target_Q_values = (rewards +\n",
        "                       (1 - dones) * discount_rate * max_next_Q_values)\n",
        "    target_Q_values = target_Q_values.reshape(-1, 1)\n",
        "    mask = torch.nn.functional.one_hot(Tensor(actions).long(), n_outputs)\n",
        "    \n",
        "    # Evaluate the loss\n",
        "    all_Q_values = model(Tensor(states))\n",
        "    Q_values = torch.sum(all_Q_values * mask, dim=1, keepdims=True)\n",
        "    loss = loss_fn(Tensor(target_Q_values), Q_values)\n",
        "    \n",
        "    # Evaluate the gradients and update the parameters \n",
        "    optimizer.zero_grad()\n",
        "    loss.backward()\n",
        "    optimizer.step()\n"
      ]
    },
    {
      "cell_type": "markdown",
      "id": "44d69234",
      "metadata": {},
      "source": [
        "### Define hyperparameters"
      ]
    },
    {
      "cell_type": "code",
      "execution_count": 14,
      "id": "c01b7398-d2db-4d07-9cba-02a8f043bb1b",
      "metadata": {
        "jupyter": {
          "outputs_hidden": false,
          "source_hidden": false
        },
        "nteract": {
          "transient": {
            "deleting": false
          }
        }
      },
      "outputs": [],
      "source": [
        "batch_size = 16\n",
        "discount_rate = 0.99\n",
        "optimizer = Adam(model.parameters(), lr=1e-2)\n"
      ]
    },
    {
      "cell_type": "code",
      "execution_count": 15,
      "id": "abade1f6-b304-4f43-bf16-126a0f788fd4",
      "metadata": {
        "jupyter": {
          "outputs_hidden": false,
          "source_hidden": false
        },
        "nteract": {
          "transient": {
            "deleting": false
          }
        }
      },
      "outputs": [],
      "source": [
        "import random\n",
        "\n",
        "import numpy as np\n",
        "import matplotlib.pyplot as plt\n",
        "import matplotlib.animation as animation\n",
        "#%%\n",
        "\n",
        "def evaluateScore(Q, boardDim, numRuns, displayGame=False):\n",
        "    # Run the game for a specified number of runs given a specific Q matrix\n",
        "    cutoff = 100  # X moves without increasing score will cut off this game run\n",
        "    scores = []\n",
        "    for i in range(numRuns):\n",
        "        game = SnakeGame(boardDim, boardDim)\n",
        "        state = game.calcStateNum()\n",
        "        score = 0\n",
        "        oldScore = 0\n",
        "        gameOver = False\n",
        "        moveCounter = 0\n",
        "        while not gameOver:\n",
        "            possibleQs = Q[state, :]\n",
        "            action = np.argmax(possibleQs)\n",
        "            state, reward, gameOver, score = game.makeMove(action)\n",
        "            if score == oldScore:\n",
        "                moveCounter += 1\n",
        "            else:\n",
        "                oldScore = score\n",
        "                moveCounter = 0\n",
        "            if moveCounter >= cutoff:\n",
        "                # stuck going back and forth\n",
        "                break\n",
        "        scores.append(score)\n",
        "    return np.average(scores), scores\n"
      ]
    },
    {
      "cell_type": "code",
      "execution_count": 22,
      "id": "ea5878ae-33d0-49d2-81f2-a25ece22149d",
      "metadata": {
        "jupyter": {
          "outputs_hidden": false,
          "source_hidden": false
        },
        "nteract": {
          "transient": {
            "deleting": false
          }
        }
      },
      "outputs": [
        {
          "name": "stdout",
          "output_type": "stream",
          "text": [
            "Episode = 0 Step = 9\n",
            "Episode = 1 Step = 62\n",
            "Episode = 2 Step = 22\n",
            "Episode = 3 Step = 46\n",
            "Episode = 4 Step = 25\n",
            "Episode = 5 Step = 19\n",
            "Episode = 6 Step = 11\n",
            "Episode = 7 Step = 9\n",
            "Episode = 8 Step = 39\n",
            "Episode = 9 Step = 20\n",
            "Episode = 10 Step = 18\n",
            "Episode = 11 Step = 10\n",
            "Episode = 12 Step = 43\n",
            "Episode = 13 Step = 14\n",
            "Episode = 14 Step = 24\n",
            "Episode = 15 Step = 17\n",
            "Episode = 16 Step = 11\n",
            "Episode = 17 Step = 21\n",
            "Episode = 18 Step = 10\n",
            "Episode = 19 Step = 22\n",
            "Episode = 20 Step = 38\n",
            "Episode = 21 Step = 14\n",
            "Episode = 22 Step = 15\n",
            "Episode = 23 Step = 15\n",
            "Episode = 24 Step = 17\n",
            "Episode = 25 Step = 13\n",
            "Episode = 26 Step = 16\n",
            "Episode = 27 Step = 50\n",
            "Episode = 28 Step = 15\n",
            "Episode = 29 Step = 15\n",
            "Episode = 30 Step = 15\n",
            "Episode = 31 Step = 34\n",
            "Episode = 32 Step = 9\n",
            "Episode = 33 Step = 15\n",
            "Episode = 34 Step = 34\n",
            "Episode = 35 Step = 12\n",
            "Episode = 36 Step = 38\n",
            "Episode = 37 Step = 36\n",
            "Episode = 38 Step = 43\n",
            "Episode = 39 Step = 20\n",
            "Episode = 40 Step = 13\n",
            "Episode = 41 Step = 20\n",
            "Episode = 42 Step = 11\n",
            "Episode = 43 Step = 25\n",
            "Episode = 44 Step = 17\n",
            "Episode = 45 Step = 18\n"
          ]
        },
        {
          "name": "stderr",
          "output_type": "stream",
          "text": [
            "Process ForkProcess-454:\n",
            "Traceback (most recent call last):\n",
            "FAILURE: Can not get job id, Resubmit the qobj to get job id. Terra job error: 'Keyboard interrupt in parallel_map.' \n",
            "  File \"/usr/local/lib/python3.7/multiprocessing/queues.py\", line 94, in get\n",
            "    res = self._recv_bytes()\n",
            "  File \"/usr/local/lib/python3.7/multiprocessing/process.py\", line 297, in _bootstrap\n",
            "    self.run()\n",
            "  File \"/usr/local/lib/python3.7/multiprocessing/process.py\", line 99, in run\n",
            "    self._target(*self._args, **self._kwargs)\n",
            "  File \"/usr/local/lib/python3.7/concurrent/futures/process.py\", line 233, in _process_worker\n",
            "    call_item = call_queue.get(block=True)\n",
            "  File \"/usr/local/lib/python3.7/multiprocessing/connection.py\", line 216, in recv_bytes\n",
            "    buf = self._recv_bytes(maxlength)\n",
            "  File \"/usr/local/lib/python3.7/multiprocessing/connection.py\", line 407, in _recv_bytes\n",
            "    buf = self._recv(4)\n",
            "  File \"/usr/local/lib/python3.7/multiprocessing/connection.py\", line 379, in _recv\n",
            "    chunk = read(handle, remaining)\n",
            "KeyboardInterrupt\n"
          ]
        }
      ],
      "source": [
        "\n",
        "\n",
        "rewards = [] \n",
        "best_score = 0\n",
        "\n",
        "# We let the agent train for 2000 episodes\n",
        "for episode in range(100):\n",
        "    \n",
        "    # Run enviroment simulation\n",
        "    obs = env.reset()  \n",
        "    \n",
        "    # 200 is the target score for considering the environment solved\n",
        "    for step in range(200):\n",
        "        \n",
        "        # Manages the transition from exploration to exploitation\n",
        "        epsilon = max(1 - episode / 1500, 0.01)\n",
        "        obs, reward, done, info = play_one_step(env, obs, epsilon)\n",
        "        if done:\n",
        "            break\n",
        "    rewards.append(step)\n",
        "    \n",
        "    # Saving best agent\n",
        "    if step >= best_score:\n",
        "        # torch.save(model.state_dict(), './new_model_best_weights.pth') # Save best weights\n",
        "        best_score = step\n",
        "        \n",
        "    print(f'Episode = {episode} Step = {step+1}')\n",
        "    \n",
        "    # Start training only after some exploration experiences  \n",
        "    if episode > 20:\n",
        "        sequential_training_step(batch_size)\n",
        "\n"
      ]
    },
    {
      "cell_type": "code",
      "execution_count": 4,
      "id": "62d7b550-c26e-4774-a8b4-759e18d94c77",
      "metadata": {
        "jupyter": {
          "outputs_hidden": false,
          "source_hidden": false
        },
        "nteract": {
          "transient": {
            "deleting": false
          }
        }
      },
      "outputs": [
        {
          "data": {
            "text/plain": [
              "<qiskit.circuit.instructionset.InstructionSet at 0x7fd64c9fc0a0>"
            ]
          },
          "execution_count": 4,
          "metadata": {},
          "output_type": "execute_result"
        }
      ],
      "source": [
        "qubit = 4\n",
        "qc = QuantumCircuit(qubit,qubit)\n",
        "\n",
        "# apply hadamard gates\n",
        "qc.h(range(2,qubit))\n",
        "qc.measure(range(qubit),range(qubit))\n"
      ]
    },
    {
      "cell_type": "markdown",
      "id": "71ab1f66-2a22-4bed-a5cb-6a5f431456ea",
      "metadata": {},
      "source": [
        "To get a result back quickly, use `provider.get_backend` to create a `Backend` object to connect to the IonQ Simulator back-end:"
      ]
    },
    {
      "cell_type": "code",
      "execution_count": 5,
      "id": "55072a59-3df1-4eb6-9096-35fe4f2b4fc0",
      "metadata": {},
      "outputs": [],
      "source": [
        "simulator_backend = provider.get_backend(\"ionq.simulator\")"
      ]
    },
    {
      "cell_type": "markdown",
      "id": "e8fb15db-e27e-42fb-9f4f-ccd8cdaa1a1d",
      "metadata": {},
      "source": [
        "You can now run the program via the Azure Quantum service and get the result. The following cell will submit a job that runs the circuit with 100 shots:"
      ]
    },
    {
      "cell_type": "code",
      "execution_count": 7,
      "id": "9e6b8a4c-3b70-4ae6-961f-f972ed81fb44",
      "metadata": {},
      "outputs": [
        {
          "name": "stdout",
          "output_type": "stream",
          "text": [
            "Job id 9e5b3734-81c1-11ec-9083-00155d9c6457\n"
          ]
        }
      ],
      "source": [
        "job = simulator_backend.run(qc, shots=5000)\n",
        "job_id = job.id()\n",
        "print(\"Job id\", job_id)"
      ]
    },
    {
      "cell_type": "markdown",
      "id": "ea203bb6-bed4-4215-8f02-b650cf941ce3",
      "metadata": {},
      "source": [
        "To monitor job progress, we can use the Qiskit `job_monitor` we imported earlier to keep track of the Job's status. Note that this call will block until the job completes:"
      ]
    },
    {
      "cell_type": "code",
      "execution_count": 8,
      "id": "a88e4367-23a8-434b-8859-4d7ed328e529",
      "metadata": {},
      "outputs": [
        {
          "name": "stdout",
          "output_type": "stream",
          "text": [
            "Job Status: job has successfully run\n"
          ]
        }
      ],
      "source": [
        "job_monitor(job)"
      ]
    },
    {
      "cell_type": "markdown",
      "id": "3c96ad4f-6a38-41f1-9caa-822a113bd9bc",
      "metadata": {},
      "source": [
        "To wait until the job is completed and return the results, run:"
      ]
    },
    {
      "cell_type": "code",
      "execution_count": 9,
      "id": "c556f195-03b1-498c-bef6-0ad6653fbd39",
      "metadata": {},
      "outputs": [],
      "source": [
        "result = job.result()"
      ]
    },
    {
      "cell_type": "markdown",
      "id": "9157c441-4edd-489b-9e93-538cd52aa8d9",
      "metadata": {},
      "source": [
        "This returns a `qiskit.Result` object."
      ]
    },
    {
      "cell_type": "code",
      "execution_count": 10,
      "id": "6e2b1abb-37d1-4edc-abcc-7c1e6498a47c",
      "metadata": {},
      "outputs": [
        {
          "data": {
            "text/plain": [
              "qiskit.result.result.Result"
            ]
          },
          "execution_count": 10,
          "metadata": {},
          "output_type": "execute_result"
        }
      ],
      "source": [
        "type(result)"
      ]
    },
    {
      "cell_type": "code",
      "execution_count": 11,
      "id": "9f35c1c8-9b25-4c0d-a661-ba96ff1a01b2",
      "metadata": {},
      "outputs": [
        {
          "name": "stdout",
          "output_type": "stream",
          "text": [
            "Result(backend_name='ionq.simulator', backend_version='1', qobj_id='circuit-0', job_id='9e5b3734-81c1-11ec-9083-00155d9c6457', success=True, results=[ExperimentResult(shots=5000, success=True, meas_level=2, data=ExperimentResultData(counts={'0000': 1250, '0100': 1250, '1000': 1250, '1100': 1250}, probabilities={'0000': 0.25, '0100': 0.25, '1000': 0.25, '1100': 0.25}), header=QobjExperimentHeader(meas_map='[0, 1, 2, 3]', name='circuit-0', num_qubits='4', qiskit='True'))])\n"
          ]
        }
      ],
      "source": [
        "print(result)"
      ]
    },
    {
      "cell_type": "markdown",
      "id": "d9f3cee8-a6af-45ef-9681-b027e46bfc80",
      "metadata": {},
      "source": [
        "Because this is an object native to the Qiskit package, we can use Qiskit's `result.get_counts` and `plot_histogram` to visualize the results. The results can return a sparse dictionary so to make sure all possible bitstring lables are represented we add them to `counts`."
      ]
    },
    {
      "cell_type": "code",
      "execution_count": 13,
      "id": "07a22255-ec27-46e0-8054-25ee307ae523",
      "metadata": {},
      "outputs": [
        {
          "name": "stdout",
          "output_type": "stream",
          "text": [
            "{'000': 0, '001': 0, '010': 0, '011': 0, '100': 0, '101': 0, '110': 0, '111': 0, '0000': 1250, '0100': 1250, '1000': 1250, '1100': 1250}\n"
          ]
        },
        {
          "data": {
            "image/png": "[encoded data removed]",
            "text/plain": [
              "<Figure size 504x360 with 1 Axes>"
            ]
          },
          "execution_count": 13,
          "metadata": {},
          "output_type": "execute_result"
        }
      ],
      "source": [
        "# The histogram returned by the results can be sparse, so here we add any of the missing bitstring labels.\n",
        "counts = {format(n, \"03b\"): 0 for n in range(8)}\n",
        "counts.update(result.get_counts(qc))\n",
        "print(counts)\n",
        "plot_histogram(counts)"
      ]
    },
    {
      "cell_type": "markdown",
      "id": "787c78e6-f033-4530-b3c0-b96908e20bb8",
      "metadata": {},
      "source": [
        "### Run on IonQ QPU\n",
        "\n",
        "To connect to real hardware (Quantum Processing Unit or QPU), simply provide the name of the target `\"ionq.qpu\"` to the `provider.get_backend` method:"
      ]
    },
    {
      "cell_type": "code",
      "execution_count": 5,
      "id": "2fcb620d-9c00-413c-b7b9-40c92ca00e44",
      "metadata": {},
      "outputs": [],
      "source": [
        "qpu_backend = provider.get_backend(\"ionq.qpu\")"
      ]
    },
    {
      "cell_type": "markdown",
      "id": "510ba515-02a3-463f-b70d-0f27500cbd62",
      "metadata": {},
      "source": [
        "Submit the circuit to run on Azure Quantum. Note that depending on queue times this may take a while to run!\n",
        "\n",
        "Here we will again use the `job_monitor` to keep track of the job status, and `plot_histogram` to plot the results."
      ]
    },
    {
      "cell_type": "code",
      "execution_count": 6,
      "id": "5c1b030f-b435-411d-ae80-8e7c4bf84c5c",
      "metadata": {
        "jupyter": {
          "outputs_hidden": false,
          "source_hidden": false
        },
        "nteract": {
          "transient": {
            "deleting": false
          }
        }
      },
      "outputs": [
        {
          "name": "stdout",
          "output_type": "stream",
          "text": [
            "Job id 636ee0d6-81cf-11ec-9f41-00155d9c6457\n"
          ]
        }
      ],
      "source": [
        "qpu_job = qpu_backend.run(qc, shots=1024)\n",
        "job_id = qpu_job.id()\n",
        "print(\"Job id\", job_id)"
      ]
    },
    {
      "cell_type": "code",
      "execution_count": 7,
      "id": "9ebca2c0-b8e8-412d-8109-1c1c725abb45",
      "metadata": {},
      "outputs": [
        {
          "name": "stdout",
          "output_type": "stream",
          "text": [
            "Job id 6b0e05b0-81cf-11ec-9f41-00155d9c6457\n",
            "Job Status: job has successfully run\n"
          ]
        }
      ],
      "source": [
        "# Submit the circuit to run on Azure Quantum\n",
        "qpu_job = qpu_backend.run(qc, shots=1024)\n",
        "job_id = qpu_job.id()\n",
        "print(\"Job id\", job_id)\n",
        "\n",
        "# Monitor job progress and wait until complete:\n",
        "job_monitor(qpu_job)\n",
        "\n"
      ]
    },
    {
      "cell_type": "code",
      "execution_count": 9,
      "id": "dbd1b10f-0b1f-4a86-b609-ade453cffab8",
      "metadata": {
        "jupyter": {
          "outputs_hidden": false,
          "source_hidden": false
        },
        "nteract": {
          "transient": {
            "deleting": false
          }
        }
      },
      "outputs": [
        {
          "name": "stdout",
          "output_type": "stream",
          "text": [
            "Result(backend_name='ionq.qpu', backend_version='1', qobj_id='circuit-0', job_id='6b0e05b0-81cf-11ec-9f41-00155d9c6457', success=True, results=[ExperimentResult(shots=1024, success=True, meas_level=2, data=ExperimentResultData(counts={'0000': 271, '0010': 1, '0100': 244, '0110': 1, '1000': 249, '1001': 1, '1010': 1, '1100': 256}, probabilities={'0000': 0.2646484375, '0010': 0.0009765625, '0100': 0.23828125, '0110': 0.0009765625, '1000': 0.2431640625, '1001': 0.0009765625, '1010': 0.0009765625, '1100': 0.25}), header=QobjExperimentHeader(meas_map='[0, 1, 2, 3]', name='circuit-0', num_qubits='4', qiskit='True'))])\n",
            "{'000': 0, '001': 0, '010': 0, '011': 0, '100': 0, '101': 0, '110': 0, '111': 0, '0000': 271, '0010': 1, '0100': 244, '0110': 1, '1000': 249, '1001': 1, '1010': 1, '1100': 256}\n"
          ]
        },
        {
          "data": {
            "image/png": "[encoded data removed]",
            "text/plain": [
              "<Figure size 504x360 with 1 Axes>"
            ]
          },
          "execution_count": 9,
          "metadata": {},
          "output_type": "execute_result"
        }
      ],
      "source": [
        "# Get the job results (this method also waits for the Job to complete):\n",
        "result = qpu_job.result()\n",
        "print(result)\n",
        "counts = {format(n, \"03b\"): 0 for n in range(8)}\n",
        "counts.update(result.get_counts(qc))\n",
        "print(counts)\n",
        "plot_histogram(counts)"
      ]
    },
    {
      "cell_type": "code",
      "execution_count": null,
      "id": "c550311e-8735-4c81-b8de-9c1fa1bb9f3e",
      "metadata": {},
      "outputs": [],
      "source": []
    }
  ],
  "metadata": {
    "kernel_info": {
      "name": "python3"
    },
    "kernelspec": {
      "display_name": "Python 3 (ipykernel)",
      "language": "python",
      "name": "python3"
    },
    "language_info": {
      "codemirror_mode": {
        "name": "ipython",
        "version": 3
      },
      "file_extension": ".py",
      "mimetype": "text/x-python",
      "name": "python",
      "nbconvert_exporter": "python",
      "pygments_lexer": "ipython3",
      "version": "3.7.12"
    },
    "nteract": {
      "version": "nteract-front-end@1.0.0"
    }
  },
  "nbformat": 4,
  "nbformat_minor": 5
}
